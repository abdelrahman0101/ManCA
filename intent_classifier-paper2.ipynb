{
 "cells": [
  {
   "cell_type": "code",
   "execution_count": 1,
   "metadata": {},
   "outputs": [],
   "source": [
    "import pandas as pd\n",
    "import numpy as np\n",
    "import nltk\n",
    "from nltk.tokenize import word_tokenize\n",
    "from nltk import pos_tag\n",
    "from nltk.corpus import stopwords\n",
    "from nltk.stem import WordNetLemmatizer\n",
    "from nltk.stem import PorterStemmer\n",
    "from nltk.corpus import wordnet as wn\n",
    "from classification_utils import *\n",
    "\n",
    "from sklearn.pipeline import FeatureUnion\n",
    "from sklearn.preprocessing import LabelEncoder\n",
    "from sklearn.compose import ColumnTransformer\n",
    "from sklearn.pipeline import Pipeline\n",
    "from sklearn.impute import SimpleImputer\n",
    "from sklearn.preprocessing import StandardScaler, OneHotEncoder, MinMaxScaler, MaxAbsScaler\n",
    "from sklearn.feature_extraction.text import TfidfVectorizer, CountVectorizer\n",
    "from sklearn import naive_bayes, svm\n",
    "from sklearn.linear_model import LogisticRegression\n",
    "from sklearn.metrics import accuracy_score, f1_score, classification_report, plot_confusion_matrix\n",
    "from sklearn.model_selection import cross_val_score, cross_validate, train_test_split\n",
    "from sklearn.ensemble import VotingClassifier\n",
    "\n",
    "%matplotlib inline\n",
    "\n",
    "\n",
    "#from keras.preprocessing.text import Tokenizer, text_to_word_sequence, one_hot\n",
    "\n",
    "#from sklearn.model_selection import train_test_split\n",
    "#from sklearn.feature_extraction.text import CountVectorizer"
   ]
  },
  {
   "cell_type": "code",
   "execution_count": 2,
   "metadata": {},
   "outputs": [],
   "source": [
    "# set random number generator's seed:\n",
    "np.random.seed(957)"
   ]
  },
  {
   "cell_type": "markdown",
   "metadata": {},
   "source": [
    "This function loads the data from a CSV file into panda dataframe:"
   ]
  },
  {
   "cell_type": "code",
   "execution_count": 3,
   "metadata": {},
   "outputs": [
    {
     "data": {
      "text/html": [
       "<div>\n",
       "<style scoped>\n",
       "    .dataframe tbody tr th:only-of-type {\n",
       "        vertical-align: middle;\n",
       "    }\n",
       "\n",
       "    .dataframe tbody tr th {\n",
       "        vertical-align: top;\n",
       "    }\n",
       "\n",
       "    .dataframe thead th {\n",
       "        text-align: right;\n",
       "    }\n",
       "</style>\n",
       "<table border=\"1\" class=\"dataframe\">\n",
       "  <thead>\n",
       "    <tr style=\"text-align: right;\">\n",
       "      <th></th>\n",
       "      <th>id</th>\n",
       "      <th>text</th>\n",
       "      <th>intent</th>\n",
       "    </tr>\n",
       "  </thead>\n",
       "  <tbody>\n",
       "    <tr>\n",
       "      <th>8231</th>\n",
       "      <td>362.0</td>\n",
       "      <td>am always online :P</td>\n",
       "      <td>none</td>\n",
       "    </tr>\n",
       "    <tr>\n",
       "      <th>8232</th>\n",
       "      <td>6870.0</td>\n",
       "      <td>thank you Mourad</td>\n",
       "      <td>none</td>\n",
       "    </tr>\n",
       "    <tr>\n",
       "      <th>8233</th>\n",
       "      <td>6192.0</td>\n",
       "      <td>yes ,but i don't mean that there are bridges</td>\n",
       "      <td>discuss_task</td>\n",
       "    </tr>\n",
       "    <tr>\n",
       "      <th>8234</th>\n",
       "      <td>3502.0</td>\n",
       "      <td>Do we have to fill the tables?</td>\n",
       "      <td>query_plan</td>\n",
       "    </tr>\n",
       "    <tr>\n",
       "      <th>8235</th>\n",
       "      <td>1744.0</td>\n",
       "      <td>I also replied to your requirements, there wer...</td>\n",
       "      <td>request_feedback</td>\n",
       "    </tr>\n",
       "  </tbody>\n",
       "</table>\n",
       "</div>"
      ],
      "text/plain": [
       "          id                                               text  \\\n",
       "8231   362.0                                am always online :P   \n",
       "8232  6870.0                                   thank you Mourad   \n",
       "8233  6192.0       yes ,but i don't mean that there are bridges   \n",
       "8234  3502.0                     Do we have to fill the tables?   \n",
       "8235  1744.0  I also replied to your requirements, there wer...   \n",
       "\n",
       "                intent  \n",
       "8231              none  \n",
       "8232              none  \n",
       "8233      discuss_task  \n",
       "8234        query_plan  \n",
       "8235  request_feedback  "
      ]
     },
     "execution_count": 3,
     "metadata": {},
     "output_type": "execute_result"
    }
   ],
   "source": [
    "def load_dataset(filepath):\n",
    "    data_frame = pd.read_csv(filepath, usecols=['id', 'text', 'intent'])\n",
    "    data_frame = data_frame.sample(frac=1).reset_index(drop=True)  # shuffle the dataset for better performance in case it's sorted\n",
    "    return data_frame\n",
    "\n",
    "load_from_database()\n",
    "dataset = load_dataset(\"data/classifier_ds.csv\")\n",
    "dataset.tail()"
   ]
  },
  {
   "cell_type": "code",
   "execution_count": 4,
   "metadata": {},
   "outputs": [
    {
     "data": {
      "text/html": [
       "<div>\n",
       "<style scoped>\n",
       "    .dataframe tbody tr th:only-of-type {\n",
       "        vertical-align: middle;\n",
       "    }\n",
       "\n",
       "    .dataframe tbody tr th {\n",
       "        vertical-align: top;\n",
       "    }\n",
       "\n",
       "    .dataframe thead th {\n",
       "        text-align: right;\n",
       "    }\n",
       "</style>\n",
       "<table border=\"1\" class=\"dataframe\">\n",
       "  <thead>\n",
       "    <tr style=\"text-align: right;\">\n",
       "      <th></th>\n",
       "      <th>text</th>\n",
       "      <th>intent</th>\n",
       "    </tr>\n",
       "  </thead>\n",
       "  <tbody>\n",
       "    <tr>\n",
       "      <th>count</th>\n",
       "      <td>8236</td>\n",
       "      <td>8236</td>\n",
       "    </tr>\n",
       "    <tr>\n",
       "      <th>unique</th>\n",
       "      <td>7662</td>\n",
       "      <td>13</td>\n",
       "    </tr>\n",
       "    <tr>\n",
       "      <th>top</th>\n",
       "      <td>ok</td>\n",
       "      <td>none</td>\n",
       "    </tr>\n",
       "    <tr>\n",
       "      <th>freq</th>\n",
       "      <td>44</td>\n",
       "      <td>2617</td>\n",
       "    </tr>\n",
       "  </tbody>\n",
       "</table>\n",
       "</div>"
      ],
      "text/plain": [
       "        text intent\n",
       "count   8236   8236\n",
       "unique  7662     13\n",
       "top       ok   none\n",
       "freq      44   2617"
      ]
     },
     "execution_count": 4,
     "metadata": {},
     "output_type": "execute_result"
    }
   ],
   "source": [
    "dataset.drop(['id'], axis=1).describe()"
   ]
  },
  {
   "cell_type": "code",
   "execution_count": 5,
   "metadata": {},
   "outputs": [],
   "source": [
    "# Drop low frequency tags\n",
    "#dataset = dataset[~dataset.intent.isin(['report_issue'])]\n",
    "# drop some samples from the 'other' class to make the classes more balanced\n",
    "#indecies = dataset.index[dataset.intent.isin(['none'])]\n",
    "#dataset = dataset.drop(np.random.choice(indecies, 1000, replace=False))\n",
    "#indecies = dataset.index[dataset.tag.isin(['task'])]\n",
    "#dataset = dataset.drop(np.random.choice(indecies, 1000, replace=False))"
   ]
  },
  {
   "cell_type": "code",
   "execution_count": 6,
   "metadata": {},
   "outputs": [
    {
     "data": {
      "text/html": [
       "<div>\n",
       "<style scoped>\n",
       "    .dataframe tbody tr th:only-of-type {\n",
       "        vertical-align: middle;\n",
       "    }\n",
       "\n",
       "    .dataframe tbody tr th {\n",
       "        vertical-align: top;\n",
       "    }\n",
       "\n",
       "    .dataframe thead th {\n",
       "        text-align: right;\n",
       "    }\n",
       "</style>\n",
       "<table border=\"1\" class=\"dataframe\">\n",
       "  <thead>\n",
       "    <tr style=\"text-align: right;\">\n",
       "      <th></th>\n",
       "      <th>text</th>\n",
       "    </tr>\n",
       "    <tr>\n",
       "      <th>intent</th>\n",
       "      <th></th>\n",
       "    </tr>\n",
       "  </thead>\n",
       "  <tbody>\n",
       "    <tr>\n",
       "      <th>report_issue</th>\n",
       "      <td>111</td>\n",
       "    </tr>\n",
       "    <tr>\n",
       "      <th>query_rules</th>\n",
       "      <td>122</td>\n",
       "    </tr>\n",
       "    <tr>\n",
       "      <th>query_plan</th>\n",
       "      <td>173</td>\n",
       "    </tr>\n",
       "    <tr>\n",
       "      <th>query_progress</th>\n",
       "      <td>188</td>\n",
       "    </tr>\n",
       "    <tr>\n",
       "      <th>state_rules</th>\n",
       "      <td>233</td>\n",
       "    </tr>\n",
       "    <tr>\n",
       "      <th>schedule_meeting</th>\n",
       "      <td>360</td>\n",
       "    </tr>\n",
       "    <tr>\n",
       "      <th>report_progress</th>\n",
       "      <td>465</td>\n",
       "    </tr>\n",
       "    <tr>\n",
       "      <th>give_feedback</th>\n",
       "      <td>468</td>\n",
       "    </tr>\n",
       "    <tr>\n",
       "      <th>request_feedback</th>\n",
       "      <td>488</td>\n",
       "    </tr>\n",
       "    <tr>\n",
       "      <th>greet</th>\n",
       "      <td>685</td>\n",
       "    </tr>\n",
       "    <tr>\n",
       "      <th>plan_task</th>\n",
       "      <td>701</td>\n",
       "    </tr>\n",
       "    <tr>\n",
       "      <th>discuss_task</th>\n",
       "      <td>1625</td>\n",
       "    </tr>\n",
       "    <tr>\n",
       "      <th>none</th>\n",
       "      <td>2617</td>\n",
       "    </tr>\n",
       "  </tbody>\n",
       "</table>\n",
       "</div>"
      ],
      "text/plain": [
       "                  text\n",
       "intent                \n",
       "report_issue       111\n",
       "query_rules        122\n",
       "query_plan         173\n",
       "query_progress     188\n",
       "state_rules        233\n",
       "schedule_meeting   360\n",
       "report_progress    465\n",
       "give_feedback      468\n",
       "request_feedback   488\n",
       "greet              685\n",
       "plan_task          701\n",
       "discuss_task      1625\n",
       "none              2617"
      ]
     },
     "execution_count": 6,
     "metadata": {},
     "output_type": "execute_result"
    }
   ],
   "source": [
    "stats = dataset[['text','intent']].groupby('intent').count().sort_values(by=['text'])\n",
    "stats"
   ]
  },
  {
   "cell_type": "code",
   "execution_count": 7,
   "metadata": {},
   "outputs": [
    {
     "data": {
      "text/plain": [
       "<AxesSubplot:xlabel='intent'>"
      ]
     },
     "execution_count": 7,
     "metadata": {},
     "output_type": "execute_result"
    },
    {
     "data": {
      "image/png": "[encoded data removed]",
      "text/plain": [
       "<Figure size 432x288 with 1 Axes>"
      ]
     },
     "metadata": {
      "needs_background": "light"
     },
     "output_type": "display_data"
    }
   ],
   "source": [
    "stats.plot.bar(ylim=0)"
   ]
  },
  {
   "cell_type": "code",
   "execution_count": 8,
   "metadata": {},
   "outputs": [
    {
     "data": {
      "text/html": [
       "<div>\n",
       "<style scoped>\n",
       "    .dataframe tbody tr th:only-of-type {\n",
       "        vertical-align: middle;\n",
       "    }\n",
       "\n",
       "    .dataframe tbody tr th {\n",
       "        vertical-align: top;\n",
       "    }\n",
       "\n",
       "    .dataframe thead th {\n",
       "        text-align: right;\n",
       "    }\n",
       "</style>\n",
       "<table border=\"1\" class=\"dataframe\">\n",
       "  <thead>\n",
       "    <tr style=\"text-align: right;\">\n",
       "      <th></th>\n",
       "      <th>text</th>\n",
       "    </tr>\n",
       "    <tr>\n",
       "      <th>intent</th>\n",
       "      <th></th>\n",
       "    </tr>\n",
       "  </thead>\n",
       "  <tbody>\n",
       "    <tr>\n",
       "      <th>query_rules</th>\n",
       "      <td>122</td>\n",
       "    </tr>\n",
       "    <tr>\n",
       "      <th>query_plan</th>\n",
       "      <td>173</td>\n",
       "    </tr>\n",
       "    <tr>\n",
       "      <th>query_progress</th>\n",
       "      <td>188</td>\n",
       "    </tr>\n",
       "    <tr>\n",
       "      <th>state_rules</th>\n",
       "      <td>233</td>\n",
       "    </tr>\n",
       "    <tr>\n",
       "      <th>schedule_meeting</th>\n",
       "      <td>360</td>\n",
       "    </tr>\n",
       "    <tr>\n",
       "      <th>report_progress</th>\n",
       "      <td>465</td>\n",
       "    </tr>\n",
       "    <tr>\n",
       "      <th>give_feedback</th>\n",
       "      <td>468</td>\n",
       "    </tr>\n",
       "    <tr>\n",
       "      <th>greet</th>\n",
       "      <td>685</td>\n",
       "    </tr>\n",
       "    <tr>\n",
       "      <th>plan_task</th>\n",
       "      <td>701</td>\n",
       "    </tr>\n",
       "    <tr>\n",
       "      <th>none</th>\n",
       "      <td>2617</td>\n",
       "    </tr>\n",
       "  </tbody>\n",
       "</table>\n",
       "</div>"
      ],
      "text/plain": [
       "                  text\n",
       "intent                \n",
       "query_rules        122\n",
       "query_plan         173\n",
       "query_progress     188\n",
       "state_rules        233\n",
       "schedule_meeting   360\n",
       "report_progress    465\n",
       "give_feedback      468\n",
       "greet              685\n",
       "plan_task          701\n",
       "none              2617"
      ]
     },
     "execution_count": 8,
     "metadata": {},
     "output_type": "execute_result"
    }
   ],
   "source": [
    "# filter for direct message intents\n",
    "dm_man_intents = [\n",
    "                    'greet', 'plan_task', 'query_plan', 'state_rules', 'query_rules', \n",
    "                    'query_progress', 'report_progress', 'schedule_meeting', 'give_feedback', 'none'\n",
    "                 ]\n",
    "\n",
    "dm_dev_intents = [\n",
    "                    'greet', 'query_plan', 'query_rules', 'report_issue', 'give_feedback',\n",
    "                    'query_progress', 'report_progress', 'schedule_meeting', 'request_feedback', 'none',\n",
    "                 ]\n",
    "\n",
    "dm_dataset = dataset[dataset.intent.isin(dm_man_intents)]\n",
    "stats = dm_dataset[['text','intent']].groupby('intent').count().sort_values(by=['text'])\n",
    "stats"
   ]
  },
  {
   "cell_type": "code",
   "execution_count": 9,
   "metadata": {},
   "outputs": [],
   "source": [
    "X = np.reshape(dm_dataset['text'].values, (-1, 1))\n",
    "Y = np.reshape(dm_dataset['intent'].values, (-1, 1))"
   ]
  },
  {
   "cell_type": "code",
   "execution_count": null,
   "metadata": {},
   "outputs": [],
   "source": []
  },
  {
   "cell_type": "code",
   "execution_count": 10,
   "metadata": {},
   "outputs": [
    {
     "name": "stderr",
     "output_type": "stream",
     "text": [
      "<ipython-input-10-690726b4ede5>:2: SettingWithCopyWarning: \n",
      "A value is trying to be set on a copy of a slice from a DataFrame\n",
      "\n",
      "See the caveats in the documentation: https://pandas.pydata.org/pandas-docs/stable/user_guide/indexing.html#returning-a-view-versus-a-copy\n",
      "  dm_dataset['text'].dropna(inplace=True)\n",
      "<ipython-input-10-690726b4ede5>:4: SettingWithCopyWarning: \n",
      "A value is trying to be set on a copy of a slice from a DataFrame.\n",
      "Try using .loc[row_indexer,col_indexer] = value instead\n",
      "\n",
      "See the caveats in the documentation: https://pandas.pydata.org/pandas-docs/stable/user_guide/indexing.html#returning-a-view-versus-a-copy\n",
      "  dm_dataset['intent'] = dm_dataset.intent.apply(lambda x: str(x).strip('\"'))\n"
     ]
    }
   ],
   "source": [
    "# remove empty lines\n",
    "dm_dataset['text'].dropna(inplace=True)\n",
    "# remove CSV quotations\n",
    "dm_dataset['intent'] = dm_dataset.intent.apply(lambda x: str(x).strip('\"'))"
   ]
  },
  {
   "cell_type": "code",
   "execution_count": 11,
   "metadata": {},
   "outputs": [
    {
     "data": {
      "text/html": [
       "<div>\n",
       "<style scoped>\n",
       "    .dataframe tbody tr th:only-of-type {\n",
       "        vertical-align: middle;\n",
       "    }\n",
       "\n",
       "    .dataframe tbody tr th {\n",
       "        vertical-align: top;\n",
       "    }\n",
       "\n",
       "    .dataframe thead th {\n",
       "        text-align: right;\n",
       "    }\n",
       "</style>\n",
       "<table border=\"1\" class=\"dataframe\">\n",
       "  <thead>\n",
       "    <tr style=\"text-align: right;\">\n",
       "      <th></th>\n",
       "      <th>id</th>\n",
       "      <th>text</th>\n",
       "      <th>first_person</th>\n",
       "      <th>second_person</th>\n",
       "      <th>third_person</th>\n",
       "      <th>past_count</th>\n",
       "      <th>present_count</th>\n",
       "      <th>future_count</th>\n",
       "      <th>que_score</th>\n",
       "      <th>req_score</th>\n",
       "      <th>sug_score</th>\n",
       "      <th>pos_score</th>\n",
       "      <th>neg_score</th>\n",
       "      <th>length</th>\n",
       "      <th>intent</th>\n",
       "    </tr>\n",
       "  </thead>\n",
       "  <tbody>\n",
       "    <tr>\n",
       "      <th>6007</th>\n",
       "      <td>6768.0</td>\n",
       "      <td>all as per my conversation today with george</td>\n",
       "      <td>1</td>\n",
       "      <td>0</td>\n",
       "      <td>0</td>\n",
       "      <td>0</td>\n",
       "      <td>0</td>\n",
       "      <td>0</td>\n",
       "      <td>0.0</td>\n",
       "      <td>0</td>\n",
       "      <td>0.0</td>\n",
       "      <td>0.0</td>\n",
       "      <td>0.0</td>\n",
       "      <td>8</td>\n",
       "      <td>none</td>\n",
       "    </tr>\n",
       "    <tr>\n",
       "      <th>6008</th>\n",
       "      <td>3983.0</td>\n",
       "      <td>hi this  MABotArtifact  with information</td>\n",
       "      <td>0</td>\n",
       "      <td>0</td>\n",
       "      <td>0</td>\n",
       "      <td>0</td>\n",
       "      <td>1</td>\n",
       "      <td>0</td>\n",
       "      <td>0.0</td>\n",
       "      <td>0</td>\n",
       "      <td>0.0</td>\n",
       "      <td>0.0</td>\n",
       "      <td>0.0</td>\n",
       "      <td>5</td>\n",
       "      <td>none</td>\n",
       "    </tr>\n",
       "    <tr>\n",
       "      <th>6009</th>\n",
       "      <td>362.0</td>\n",
       "      <td>am always online p</td>\n",
       "      <td>0</td>\n",
       "      <td>0</td>\n",
       "      <td>0</td>\n",
       "      <td>0</td>\n",
       "      <td>2</td>\n",
       "      <td>0</td>\n",
       "      <td>0.0</td>\n",
       "      <td>0</td>\n",
       "      <td>0.0</td>\n",
       "      <td>0.0</td>\n",
       "      <td>0.0</td>\n",
       "      <td>4</td>\n",
       "      <td>none</td>\n",
       "    </tr>\n",
       "    <tr>\n",
       "      <th>6010</th>\n",
       "      <td>6870.0</td>\n",
       "      <td>thank you  MABotPerson</td>\n",
       "      <td>0</td>\n",
       "      <td>1</td>\n",
       "      <td>0</td>\n",
       "      <td>0</td>\n",
       "      <td>1</td>\n",
       "      <td>0</td>\n",
       "      <td>0.0</td>\n",
       "      <td>0</td>\n",
       "      <td>0.0</td>\n",
       "      <td>0.0</td>\n",
       "      <td>0.0</td>\n",
       "      <td>3</td>\n",
       "      <td>none</td>\n",
       "    </tr>\n",
       "    <tr>\n",
       "      <th>6011</th>\n",
       "      <td>3502.0</td>\n",
       "      <td>do we have to fill the  MABotArtifact  ?</td>\n",
       "      <td>1</td>\n",
       "      <td>0</td>\n",
       "      <td>0</td>\n",
       "      <td>0</td>\n",
       "      <td>1</td>\n",
       "      <td>0</td>\n",
       "      <td>1.0</td>\n",
       "      <td>-1</td>\n",
       "      <td>0.0</td>\n",
       "      <td>-0.5</td>\n",
       "      <td>-0.5</td>\n",
       "      <td>8</td>\n",
       "      <td>query_plan</td>\n",
       "    </tr>\n",
       "  </tbody>\n",
       "</table>\n",
       "</div>"
      ],
      "text/plain": [
       "          id                                          text  first_person  \\\n",
       "6007  6768.0  all as per my conversation today with george             1   \n",
       "6008  3983.0      hi this  MABotArtifact  with information             0   \n",
       "6009   362.0                            am always online p             0   \n",
       "6010  6870.0                       thank you  MABotPerson              0   \n",
       "6011  3502.0      do we have to fill the  MABotArtifact  ?             1   \n",
       "\n",
       "      second_person  third_person  past_count  present_count  future_count  \\\n",
       "6007              0             0           0              0             0   \n",
       "6008              0             0           0              1             0   \n",
       "6009              0             0           0              2             0   \n",
       "6010              1             0           0              1             0   \n",
       "6011              0             0           0              1             0   \n",
       "\n",
       "      que_score  req_score  sug_score  pos_score  neg_score  length  \\\n",
       "6007        0.0          0        0.0        0.0        0.0       8   \n",
       "6008        0.0          0        0.0        0.0        0.0       5   \n",
       "6009        0.0          0        0.0        0.0        0.0       4   \n",
       "6010        0.0          0        0.0        0.0        0.0       3   \n",
       "6011        1.0         -1        0.0       -0.5       -0.5       8   \n",
       "\n",
       "          intent  \n",
       "6007        none  \n",
       "6008        none  \n",
       "6009        none  \n",
       "6010        none  \n",
       "6011  query_plan  "
      ]
     },
     "execution_count": 11,
     "metadata": {},
     "output_type": "execute_result"
    }
   ],
   "source": [
    "entities = {\n",
    "    'person': 'replace', \n",
    "    'subteam': 'replace', \n",
    "    'tool': 'replace', \n",
    "    'artifact': 'replace',\n",
    "    'time': 'replace',\n",
    "    'date': 'replace',\n",
    "    'url': 'replace',\n",
    "    'email': 'remove',\n",
    "    'number': 'replace'\n",
    "}\n",
    "\n",
    "ids = []\n",
    "text = []\n",
    "first_person = []\n",
    "second_person = []\n",
    "third_person = []\n",
    "past_count = []\n",
    "present_count = []\n",
    "future_count = []\n",
    "q_scores = []\n",
    "r_scores = []\n",
    "s_scores = []\n",
    "p_scores = []\n",
    "n_scores = []\n",
    "abs_len = []\n",
    "intents = []\n",
    "\n",
    "for _idx, row in dm_dataset.iterrows():\n",
    "    txt, first, second, third, past, present, future, qscr, rscr, sscr, pscr, nscr, alen = normalize_msg(row.text, normal='none', remove_stop=False, entities=entities)\n",
    "    ids.append(row.id)\n",
    "    text.append(txt)\n",
    "    first_person.append(first)\n",
    "    second_person.append(second)\n",
    "    third_person.append(third)\n",
    "    past_count.append(past)\n",
    "    present_count.append(present)\n",
    "    future_count.append(future)\n",
    "    q_scores.append(qscr)\n",
    "    r_scores.append(rscr)\n",
    "    s_scores.append(sscr)\n",
    "    p_scores.append(pscr)\n",
    "    n_scores.append(nscr)\n",
    "    abs_len.append(alen)\n",
    "    intents.append(row.intent)\n",
    "    \n",
    "nds = pd.DataFrame({\n",
    "    'id': ids,\n",
    "    'text': text,\n",
    "    'first_person': first_person,\n",
    "    'second_person': second_person,\n",
    "    'third_person': third_person,\n",
    "    'past_count': past_count,\n",
    "    'present_count': present_count,\n",
    "    'future_count': future_count,\n",
    "    'que_score': q_scores,\n",
    "    'req_score': r_scores,\n",
    "    'sug_score': s_scores,\n",
    "    'pos_score': p_scores,\n",
    "    'neg_score': n_scores,\n",
    "    'length': abs_len,\n",
    "    'intent': intents\n",
    "})\n",
    "#nds['intent'] = dm_dataset['intent']\n",
    "nds.dropna(inplace=True)\n",
    "nds.tail()"
   ]
  },
  {
   "cell_type": "code",
   "execution_count": 12,
   "metadata": {},
   "outputs": [],
   "source": [
    "#Train_X_raw, Test_X_raw, Train_Y_raw, Test_Y_raw = train_test_split(nds.drop(['intent'], axis=1), nds['intent'], test_size=0.2)\n",
    "#test_ids = Test_X_raw['id']\n",
    "#test_ids.to_csv('test_ids.csv', index=False)"
   ]
  },
  {
   "cell_type": "code",
   "execution_count": 13,
   "metadata": {},
   "outputs": [],
   "source": [
    "test_set_ids = pd.read_csv('test_ids.csv', header=None, names=['id'])\n",
    "Train_raw = nds[~nds['id'].isin(test_set_ids['id'])]\n",
    "Test_raw = nds[nds['id'].isin(test_set_ids['id'])]\n",
    "\n",
    "Train_X_raw = Train_raw.drop(['intent'], axis=1)\n",
    "Train_Y_raw = Train_raw['intent']\n",
    "Test_X_raw = Test_raw.drop(['intent'], axis=1)\n",
    "Test_Y_raw = Test_raw['intent']\n",
    "\n",
    "Encoder = LabelEncoder()\n",
    "Train_Y = Encoder.fit_transform(Train_Y_raw)\n",
    "Test_Y = Encoder.fit_transform(Test_Y_raw)"
   ]
  },
  {
   "cell_type": "code",
   "execution_count": 14,
   "metadata": {},
   "outputs": [
    {
     "name": "stdout",
     "output_type": "stream",
     "text": [
      "Training set shape: (4664, 4012)\n",
      "Test set shape: (1129, 4012)\n"
     ]
    }
   ],
   "source": [
    "pronoun_features = ['first_person', 'second_person', 'third_person']\n",
    "tense_features = ['past_count', 'present_count', 'future_count']\n",
    "length_features = ['length']\n",
    "da_features = ['que_score', 'req_score', 'sug_score', 'pos_score', 'neg_score']\n",
    "\n",
    "numeric_features = pronoun_features + tense_features + da_features + length_features\n",
    "heuristic_selection = ['second_person', 'past_count', 'future_count', 'que_score', 'req_score', 'pos_score', 'length']\n",
    "\n",
    "preprocessor = ColumnTransformer(\n",
    "    [\n",
    "        ('txt', TfidfVectorizer(max_features=4000, ngram_range=(1, 3)), 'text'),\n",
    "        ('num1', MinMaxScaler(feature_range=(1, 10)), tense_features),\n",
    "        ('num2', MinMaxScaler(feature_range=(1, 10)), pronoun_features),\n",
    "        ('num3', MinMaxScaler(feature_range=(1, 10)), length_features),\n",
    "        ('num4', MinMaxScaler(feature_range=(1, 20)), da_features)\n",
    "        #('num5', MinMaxScaler(feature_range=(1, 10)), heuristic_selection)\n",
    "    ])\n",
    "\n",
    "preprocessor.fit(nds.drop(['intent','id'], axis=1))\n",
    "Train_X = preprocessor.transform(Train_X_raw.drop(['id'], axis=1))\n",
    "Test_X = preprocessor.transform(Test_X_raw.drop(['id'], axis=1))\n",
    "\n",
    "print(\"Training set shape:\",Train_X.shape)\n",
    "print(\"Test set shape:\",Test_X.shape)\n",
    "\n",
    "\n",
    "intents = list(Encoder.inverse_transform([i for i in range(0, 10)]))"
   ]
  },
  {
   "cell_type": "code",
   "execution_count": 15,
   "metadata": {},
   "outputs": [
    {
     "name": "stdout",
     "output_type": "stream",
     "text": [
      "Random Classifier Accuracy Score: 24.89\n",
      "Random Classifier Macro F1 Score: 0.113\n",
      "----------------------------------------------------------\n",
      "                  precision    recall  f1-score   support\n",
      "\n",
      "   give_feedback       0.11      0.11      0.11        84\n",
      "           greet       0.14      0.14      0.14       143\n",
      "            none       0.46      0.45      0.46       496\n",
      "       plan_task       0.08      0.08      0.08       120\n",
      "      query_plan       0.06      0.11      0.08        28\n",
      "  query_progress       0.00      0.00      0.00        28\n",
      "     query_rules       0.07      0.05      0.06        20\n",
      " report_progress       0.06      0.05      0.05       100\n",
      "schedule_meeting       0.06      0.06      0.06        64\n",
      "     state_rules       0.09      0.09      0.09        46\n",
      "\n",
      "        accuracy                           0.25      1129\n",
      "       macro avg       0.11      0.11      0.11      1129\n",
      "    weighted avg       0.25      0.25      0.25      1129\n",
      "\n"
     ]
    }
   ],
   "source": [
    "# Random Classifier\n",
    "import random\n",
    "\n",
    "accum = 0\n",
    "dist = []\n",
    "for intent in stats.index:\n",
    "    count = stats['text'][intent]\n",
    "    accum += count\n",
    "    dist.append((accum, intent))\n",
    "\n",
    "preds = []\n",
    "for i in range(Test_Y.shape[0]):\n",
    "    pred_i = random.randint(1, accum)\n",
    "    for max_i, intent in dist:\n",
    "        if pred_i <= max_i:\n",
    "            preds.append(intent)\n",
    "            break\n",
    "    \n",
    "pred_rand = Encoder.transform(preds)\n",
    "# Use accuracy_score function to get the accuracy\n",
    "print(\"Random Classifier Accuracy Score: %0.2f\" % (accuracy_score(pred_rand, Test_Y) * 100))\n",
    "print(\"Random Classifier Macro F1 Score: %0.3f\" % (f1_score(pred_rand, Test_Y, average='macro')))\n",
    "print(\"----------------------------------------------------------\")\n",
    "print(classification_report(Test_Y, pred_rand, target_names=intents))"
   ]
  },
  {
   "cell_type": "markdown",
   "metadata": {},
   "source": [
    "### Naive Bayes Classifier"
   ]
  },
  {
   "cell_type": "code",
   "execution_count": 16,
   "metadata": {},
   "outputs": [
    {
     "name": "stdout",
     "output_type": "stream",
     "text": [
      "Naive Bayes Accuracy Score: 69.35\n",
      "Naive Bayes Macro F1 Score: 0.508\n",
      "----------------------------------------------------------\n",
      "                  precision    recall  f1-score   support\n",
      "\n",
      "   give_feedback       0.92      0.13      0.23        84\n",
      "           greet       0.94      0.83      0.88       143\n",
      "            none       0.63      0.95      0.76       496\n",
      "       plan_task       0.68      0.57      0.62       120\n",
      "      query_plan       0.57      0.14      0.23        28\n",
      "  query_progress       0.67      0.36      0.47        28\n",
      "     query_rules       0.75      0.15      0.25        20\n",
      " report_progress       0.79      0.53      0.63       100\n",
      "schedule_meeting       0.83      0.53      0.65        64\n",
      "     state_rules       0.73      0.24      0.36        46\n",
      "\n",
      "        accuracy                           0.69      1129\n",
      "       macro avg       0.75      0.44      0.51      1129\n",
      "    weighted avg       0.73      0.69      0.66      1129\n",
      "\n"
     ]
    }
   ],
   "source": [
    "# fit the training dataset on the NB classifier\n",
    "#Naive = naive_bayes.MultinomialNB()\n",
    "Naive = naive_bayes.ComplementNB(alpha=2) #imbalanced dataset\n",
    "Naive.fit(Train_X, Train_Y)\n",
    "\n",
    "# predict the labels on validation dataset\n",
    "predictions_NB = Naive.predict(Test_X)\n",
    "\n",
    "# Use accuracy_score function to get the accuracy\n",
    "print(\"Naive Bayes Accuracy Score: %0.2f\" % (accuracy_score(predictions_NB, Test_Y) * 100))\n",
    "print(\"Naive Bayes Macro F1 Score: %0.3f\" % (f1_score(predictions_NB, Test_Y, average='macro')))\n",
    "print(\"----------------------------------------------------------\")\n",
    "print(classification_report(Test_Y, predictions_NB, target_names=intents))"
   ]
  },
  {
   "cell_type": "markdown",
   "metadata": {},
   "source": [
    "### SVM Classifier"
   ]
  },
  {
   "cell_type": "code",
   "execution_count": 17,
   "metadata": {},
   "outputs": [
    {
     "name": "stdout",
     "output_type": "stream",
     "text": [
      "SVM Accuracy Score: 73.87\n",
      "SVM Macro F1 Score: 0.644\n",
      "----------------------------------------------------------\n",
      "                  precision    recall  f1-score   support\n",
      "\n",
      "   give_feedback       0.69      0.49      0.57        84\n",
      "           greet       0.93      0.88      0.91       143\n",
      "            none       0.74      0.84      0.79       496\n",
      "       plan_task       0.60      0.68      0.64       120\n",
      "      query_plan       0.56      0.32      0.41        28\n",
      "  query_progress       0.77      0.61      0.68        28\n",
      "     query_rules       0.57      0.40      0.47        20\n",
      " report_progress       0.77      0.68      0.72       100\n",
      "schedule_meeting       0.76      0.69      0.72        64\n",
      "     state_rules       0.64      0.46      0.53        46\n",
      "\n",
      "        accuracy                           0.74      1129\n",
      "       macro avg       0.70      0.60      0.64      1129\n",
      "    weighted avg       0.74      0.74      0.73      1129\n",
      "\n"
     ]
    }
   ],
   "source": [
    "# Classifier - Algorithm - SVM\n",
    "# fit the training dataset on the classifier\n",
    "#SVM = svm.SVC(C=5, kernel='linear', degree=3, gamma='auto')\n",
    "SVM = svm.LinearSVC(C=2.5, dual=False)\n",
    "\n",
    "SVM.fit(Train_X,Train_Y)\n",
    "\n",
    "# predict the labels on validation dataset\n",
    "predictions_SVM = SVM.predict(Test_X)\n",
    "\n",
    "# Use accuracy_score function to get the accuracy\n",
    "print(\"SVM Accuracy Score: %0.2f\"%(accuracy_score(predictions_SVM, Test_Y) * 100))\n",
    "print(\"SVM Macro F1 Score: %0.3f\"%f1_score(predictions_SVM, Test_Y, average='macro'))\n",
    "print(\"----------------------------------------------------------\")\n",
    "print(classification_report(Test_Y, predictions_SVM, target_names=intents))"
   ]
  },
  {
   "cell_type": "code",
   "execution_count": 18,
   "metadata": {},
   "outputs": [
    {
     "data": {
      "text/plain": [
       "array(['greet', 'plan_task', 'report_progress', 'schedule_meeting',\n",
       "       'none', 'none'], dtype=object)"
      ]
     },
     "execution_count": 18,
     "metadata": {},
     "output_type": "execute_result"
    }
   ],
   "source": [
    "test_str = [\"Hello Abdelrahman, how are you ?\", \"Ahmed will do the design\", \"I just finished the ERD\", \"Tomorrow is the project deadline!\", \"we need to build a desktop app\", \"The relation between the two tables is one to one\"]\n",
    "cols = np.delete(nds.columns.values, [0, 14])\n",
    "normalized_test = [normalize_msg(tst, remove_stop=False, normal='None') for tst in test_str]\n",
    "test_df = pd.DataFrame(normalized_test, columns=cols)\n",
    "pred = SVM.predict(preprocessor.transform(test_df))\n",
    "Encoder.inverse_transform(pred)"
   ]
  },
  {
   "cell_type": "markdown",
   "metadata": {},
   "source": [
    "\n",
    "### Logistic Regression Classifier"
   ]
  },
  {
   "cell_type": "code",
   "execution_count": 19,
   "metadata": {},
   "outputs": [
    {
     "name": "stdout",
     "output_type": "stream",
     "text": [
      "Logistic Regression Accuracy: 74.58\n",
      "Logistic Regression Macro F1 Score: 0.670\n",
      "----------------------------------------------------------\n",
      "                  precision    recall  f1-score   support\n",
      "\n",
      "   give_feedback       0.60      0.52      0.56        84\n",
      "           greet       0.95      0.87      0.91       143\n",
      "            none       0.79      0.79      0.79       496\n",
      "       plan_task       0.59      0.72      0.65       120\n",
      "      query_plan       0.59      0.46      0.52        28\n",
      "  query_progress       0.69      0.71      0.70        28\n",
      "     query_rules       0.50      0.50      0.50        20\n",
      " report_progress       0.72      0.79      0.75       100\n",
      "schedule_meeting       0.76      0.70      0.73        64\n",
      "     state_rules       0.62      0.54      0.58        46\n",
      "\n",
      "        accuracy                           0.75      1129\n",
      "       macro avg       0.68      0.66      0.67      1129\n",
      "    weighted avg       0.75      0.75      0.75      1129\n",
      "\n"
     ]
    }
   ],
   "source": [
    "logReg = LogisticRegression(C=10, multi_class='ovr', class_weight='balanced', solver='liblinear')\n",
    "logReg.fit(Train_X, Train_Y)\n",
    "\n",
    "# test and print accuracy\n",
    "LogRegPredictions = logReg.predict(Test_X)\n",
    "score = accuracy_score(LogRegPredictions, Test_Y) * 100\n",
    "f1 = f1_score(LogRegPredictions, Test_Y, average='macro')\n",
    "print(\"Logistic Regression Accuracy: %0.2f\"%score)\n",
    "print(\"Logistic Regression Macro F1 Score: %0.3f\"% f1)\n",
    "print(\"----------------------------------------------------------\")\n",
    "print(classification_report(Test_Y, LogRegPredictions, target_names=intents))\n"
   ]
  },
  {
   "cell_type": "code",
   "execution_count": 20,
   "metadata": {},
   "outputs": [
    {
     "data": {
      "text/plain": [
       "<sklearn.metrics._plot.confusion_matrix.ConfusionMatrixDisplay at 0x7f4bb3af17f0>"
      ]
     },
     "execution_count": 20,
     "metadata": {},
     "output_type": "execute_result"
    },
    {
     "data": {
      "image/png": "[encoded data removed]",
      "text/plain": [
       "<Figure size 576x576 with 2 Axes>"
      ]
     },
     "metadata": {
      "needs_background": "light"
     },
     "output_type": "display_data"
    }
   ],
   "source": [
    "fig, ax = plt.subplots(figsize=(8, 8))\n",
    "plot_confusion_matrix(logReg, Test_X, Test_Y, display_labels=intents, xticks_rotation='vertical', ax=ax)"
   ]
  },
  {
   "cell_type": "code",
   "execution_count": 21,
   "metadata": {},
   "outputs": [
    {
     "name": "stdout",
     "output_type": "stream",
     "text": [
      "Majority Voting Accuracy: 75.02\n",
      "Majority Voting F1 Score: 0.652\n",
      "----------------------------------------------------------\n",
      "                  precision    recall  f1-score   support\n",
      "\n",
      "   give_feedback       0.67      0.49      0.57        84\n",
      "           greet       0.94      0.88      0.91       143\n",
      "            none       0.74      0.86      0.80       496\n",
      "       plan_task       0.63      0.69      0.66       120\n",
      "      query_plan       0.60      0.32      0.42        28\n",
      "  query_progress       0.77      0.61      0.68        28\n",
      "     query_rules       0.67      0.40      0.50        20\n",
      " report_progress       0.78      0.71      0.74       100\n",
      "schedule_meeting       0.78      0.66      0.71        64\n",
      "     state_rules       0.64      0.46      0.53        46\n",
      "\n",
      "        accuracy                           0.75      1129\n",
      "       macro avg       0.72      0.61      0.65      1129\n",
      "    weighted avg       0.75      0.75      0.74      1129\n",
      "\n"
     ]
    }
   ],
   "source": [
    "# Simple Majority Voting Ensemble (depends on previous classifiers predictions)\n",
    "#sum_pred = LogRegPredictions.todense() + predictions_SVM.todense() + predictions_NB.todense()\n",
    "\n",
    "eclf = VotingClassifier(estimators=[ ('nb', Naive), ('svm', SVM),('lr', logReg)], voting='hard')\n",
    "eclf.fit(Train_X, Train_Y)\n",
    "ensemble_pred = eclf.predict(Test_X)\n",
    "\n",
    "#ensemble_pred\n",
    "score = accuracy_score(ensemble_pred, Test_Y) * 100\n",
    "f1 = f1_score(ensemble_pred, Test_Y, average='macro')\n",
    "print(\"Majority Voting Accuracy: %0.2f\"% score)\n",
    "print(\"Majority Voting F1 Score: %0.3f\"% f1)\n",
    "print(\"----------------------------------------------------------\")\n",
    "print(classification_report(Test_Y, ensemble_pred, target_names=intents, digits=2))"
   ]
  },
  {
   "cell_type": "code",
   "execution_count": 30,
   "metadata": {},
   "outputs": [
    {
     "data": {
      "image/png": "[encoded data removed]",
      "text/plain": [
       "<Figure size 720x720 with 2 Axes>"
      ]
     },
     "metadata": {
      "needs_background": "light"
     },
     "output_type": "display_data"
    }
   ],
   "source": [
    "fig, ax = plt.subplots(figsize=(10, 10))\n",
    "plot_confusion_matrix(eclf, Test_X, Test_Y, display_labels=intents, xticks_rotation='vertical', ax=ax);"
   ]
  },
  {
   "cell_type": "markdown",
   "metadata": {},
   "source": [
    "## Save model objects for realtime use"
   ]
  },
  {
   "cell_type": "code",
   "execution_count": 22,
   "metadata": {},
   "outputs": [],
   "source": [
    "import pickle\n",
    "# save the model to disk\n",
    "filename = 'ensemble_model.sav'\n",
    "pickle.dump(eclf, open(filename, 'wb'))\n",
    "pickle.dump(preprocessor, open('preprocessor.sav', 'wb'))\n",
    "pickle.dump(Encoder, open('encoder.sav', 'wb'))"
   ]
  },
  {
   "cell_type": "code",
   "execution_count": 23,
   "metadata": {},
   "outputs": [],
   "source": [
    "#loaded_encoder = pickle.load(open('encoder.sav', 'rb'))\n"
   ]
  },
  {
   "cell_type": "code",
   "execution_count": 22,
   "metadata": {},
   "outputs": [],
   "source": [
    "from sklearn.preprocessing import OneHotEncoder\n",
    "oh_encoder = OneHotEncoder(sparse=False, categories='auto')\n",
    "Train_Y_oh = oh_encoder.fit_transform(Train_Y.reshape(-1, 1))\n",
    "Test_Y_oh = oh_encoder.fit_transform(Test_Y.reshape(-1, 1))"
   ]
  },
  {
   "cell_type": "code",
   "execution_count": 23,
   "metadata": {},
   "outputs": [
    {
     "name": "stderr",
     "output_type": "stream",
     "text": [
      "Using TensorFlow backend.\n"
     ]
    }
   ],
   "source": [
    "# Dense Neural Network\n",
    "from keras.models import Sequential\n",
    "from keras import layers\n",
    "\n",
    "input_dim = Test_X.shape[1]  # Number of features\n",
    "\n",
    "dense_model = Sequential()\n",
    "dense_model.add(layers.Dense(20, input_dim=input_dim, activation='relu'))\n",
    "dense_model.add(layers.Dropout(0.2))\n",
    "dense_model.add(layers.Dense(Train_Y_oh.shape[1], activation='softmax'))\n",
    "dense_model.compile(loss='categorical_crossentropy', optimizer='adam', metrics=['categorical_accuracy'])"
   ]
  },
  {
   "cell_type": "code",
   "execution_count": 24,
   "metadata": {},
   "outputs": [
    {
     "name": "stdout",
     "output_type": "stream",
     "text": [
      "Model: \"sequential_1\"\n",
      "_________________________________________________________________\n",
      "Layer (type)                 Output Shape              Param #   \n",
      "=================================================================\n",
      "dense_1 (Dense)              (None, 20)                80260     \n",
      "_________________________________________________________________\n",
      "dropout_1 (Dropout)          (None, 20)                0         \n",
      "_________________________________________________________________\n",
      "dense_2 (Dense)              (None, 13)                273       \n",
      "=================================================================\n",
      "Total params: 80,533\n",
      "Trainable params: 80,533\n",
      "Non-trainable params: 0\n",
      "_________________________________________________________________\n"
     ]
    }
   ],
   "source": [
    "dense_model.summary()"
   ]
  },
  {
   "cell_type": "code",
   "execution_count": 25,
   "metadata": {},
   "outputs": [
    {
     "name": "stdout",
     "output_type": "stream",
     "text": [
      "Train on 5744 samples, validate on 639 samples\n",
      "Epoch 1/200\n",
      "5744/5744 [==============================] - 2s 347us/step - loss: 2.2893 - categorical_accuracy: 0.2819 - val_loss: 2.1326 - val_categorical_accuracy: 0.3005\n",
      "Epoch 2/200\n",
      "5744/5744 [==============================] - 1s 111us/step - loss: 2.1663 - categorical_accuracy: 0.3249 - val_loss: 2.0626 - val_categorical_accuracy: 0.3020\n",
      "Epoch 3/200\n",
      "5744/5744 [==============================] - 1s 95us/step - loss: 2.1120 - categorical_accuracy: 0.3330 - val_loss: 2.0215 - val_categorical_accuracy: 0.3130\n",
      "Epoch 4/200\n",
      "5744/5744 [==============================] - 1s 104us/step - loss: 2.0665 - categorical_accuracy: 0.3416 - val_loss: 1.9916 - val_categorical_accuracy: 0.3302\n",
      "Epoch 5/200\n",
      "5744/5744 [==============================] - 1s 117us/step - loss: 2.0338 - categorical_accuracy: 0.3475 - val_loss: 1.9618 - val_categorical_accuracy: 0.3490\n",
      "Epoch 6/200\n",
      "5744/5744 [==============================] - 0s 78us/step - loss: 1.9991 - categorical_accuracy: 0.3663 - val_loss: 1.9311 - val_categorical_accuracy: 0.3818\n",
      "Epoch 7/200\n",
      "5744/5744 [==============================] - 0s 74us/step - loss: 1.9628 - categorical_accuracy: 0.3816 - val_loss: 1.9025 - val_categorical_accuracy: 0.3850\n",
      "Epoch 8/200\n",
      "5744/5744 [==============================] - 0s 77us/step - loss: 1.9281 - categorical_accuracy: 0.3950 - val_loss: 1.8747 - val_categorical_accuracy: 0.3944\n",
      "Epoch 9/200\n",
      "5744/5744 [==============================] - 0s 63us/step - loss: 1.9026 - categorical_accuracy: 0.4074 - val_loss: 1.8434 - val_categorical_accuracy: 0.4006\n",
      "Epoch 10/200\n",
      "5744/5744 [==============================] - 0s 83us/step - loss: 1.8642 - categorical_accuracy: 0.4136 - val_loss: 1.8205 - val_categorical_accuracy: 0.3991- loss: 1.8605 - categorical_accuracy: 0.41\n",
      "Epoch 11/200\n",
      "5744/5744 [==============================] - 0s 79us/step - loss: 1.8392 - categorical_accuracy: 0.4152 - val_loss: 1.7927 - val_categorical_accuracy: 0.4022\n",
      "Epoch 12/200\n",
      "5744/5744 [==============================] - 0s 67us/step - loss: 1.8038 - categorical_accuracy: 0.4271 - val_loss: 1.7624 - val_categorical_accuracy: 0.4085\n",
      "Epoch 13/200\n",
      "5744/5744 [==============================] - 0s 71us/step - loss: 1.7651 - categorical_accuracy: 0.4333 - val_loss: 1.7341 - val_categorical_accuracy: 0.4147\n",
      "Epoch 14/200\n",
      "5744/5744 [==============================] - 0s 74us/step - loss: 1.7391 - categorical_accuracy: 0.4365 - val_loss: 1.7130 - val_categorical_accuracy: 0.4194\n",
      "Epoch 15/200\n",
      "5744/5744 [==============================] - 1s 89us/step - loss: 1.7202 - categorical_accuracy: 0.4425 - val_loss: 1.6848 - val_categorical_accuracy: 0.4210\n",
      "Epoch 16/200\n",
      "5744/5744 [==============================] - 0s 80us/step - loss: 1.6793 - categorical_accuracy: 0.4502 - val_loss: 1.6556 - val_categorical_accuracy: 0.4444\n",
      "Epoch 17/200\n",
      "5744/5744 [==============================] - 0s 74us/step - loss: 1.6519 - categorical_accuracy: 0.4645 - val_loss: 1.6248 - val_categorical_accuracy: 0.4585\n",
      "Epoch 18/200\n",
      "5744/5744 [==============================] - 0s 69us/step - loss: 1.6244 - categorical_accuracy: 0.4748 - val_loss: 1.6046 - val_categorical_accuracy: 0.4601\n",
      "Epoch 19/200\n",
      "5744/5744 [==============================] - 1s 88us/step - loss: 1.6003 - categorical_accuracy: 0.4859 - val_loss: 1.5804 - val_categorical_accuracy: 0.4804\n",
      "Epoch 20/200\n",
      "5744/5744 [==============================] - 1s 91us/step - loss: 1.5707 - categorical_accuracy: 0.4998 - val_loss: 1.5595 - val_categorical_accuracy: 0.4773\n",
      "Epoch 21/200\n",
      "5744/5744 [==============================] - 0s 81us/step - loss: 1.5377 - categorical_accuracy: 0.5087 - val_loss: 1.5378 - val_categorical_accuracy: 0.4898\n",
      "Epoch 22/200\n",
      "5744/5744 [==============================] - 0s 74us/step - loss: 1.5156 - categorical_accuracy: 0.5183 - val_loss: 1.5136 - val_categorical_accuracy: 0.5055\n",
      "Epoch 23/200\n",
      "5744/5744 [==============================] - 0s 83us/step - loss: 1.4877 - categorical_accuracy: 0.5322 - val_loss: 1.4935 - val_categorical_accuracy: 0.5274\n",
      "Epoch 24/200\n",
      "5744/5744 [==============================] - 0s 80us/step - loss: 1.4754 - categorical_accuracy: 0.5409 - val_loss: 1.4851 - val_categorical_accuracy: 0.5196\n",
      "Epoch 25/200\n",
      "5744/5744 [==============================] - 0s 76us/step - loss: 1.4558 - categorical_accuracy: 0.5472 - val_loss: 1.4604 - val_categorical_accuracy: 0.5462\n",
      "Epoch 26/200\n",
      "5744/5744 [==============================] - 0s 67us/step - loss: 1.4265 - categorical_accuracy: 0.5637 - val_loss: 1.4430 - val_categorical_accuracy: 0.5336\n",
      "Epoch 27/200\n",
      "5744/5744 [==============================] - 0s 75us/step - loss: 1.4135 - categorical_accuracy: 0.5630 - val_loss: 1.4210 - val_categorical_accuracy: 0.5524\n",
      "Epoch 28/200\n",
      "5744/5744 [==============================] - 0s 83us/step - loss: 1.3875 - categorical_accuracy: 0.5726 - val_loss: 1.4088 - val_categorical_accuracy: 0.5493\n",
      "Epoch 29/200\n",
      "5744/5744 [==============================] - 0s 76us/step - loss: 1.3607 - categorical_accuracy: 0.5783 - val_loss: 1.3904 - val_categorical_accuracy: 0.5587\n",
      "Epoch 30/200\n",
      "5744/5744 [==============================] - 0s 73us/step - loss: 1.3497 - categorical_accuracy: 0.5841 - val_loss: 1.3721 - val_categorical_accuracy: 0.5759\n",
      "Epoch 31/200\n",
      "5744/5744 [==============================] - 0s 87us/step - loss: 1.3360 - categorical_accuracy: 0.5917 - val_loss: 1.3571 - val_categorical_accuracy: 0.5696\n",
      "Epoch 32/200\n",
      "5744/5744 [==============================] - 0s 83us/step - loss: 1.3185 - categorical_accuracy: 0.5968 - val_loss: 1.3509 - val_categorical_accuracy: 0.5696\n",
      "Epoch 33/200\n",
      "5744/5744 [==============================] - 0s 80us/step - loss: 1.2981 - categorical_accuracy: 0.6041 - val_loss: 1.3345 - val_categorical_accuracy: 0.5759\n",
      "Epoch 34/200\n",
      "5744/5744 [==============================] - 0s 87us/step - loss: 1.2683 - categorical_accuracy: 0.6055 - val_loss: 1.3251 - val_categorical_accuracy: 0.5743\n",
      "Epoch 35/200\n",
      "5744/5744 [==============================] - 1s 87us/step - loss: 1.2663 - categorical_accuracy: 0.6126 - val_loss: 1.3075 - val_categorical_accuracy: 0.5900\n",
      "Epoch 36/200\n",
      "5744/5744 [==============================] - 0s 82us/step - loss: 1.2430 - categorical_accuracy: 0.6128 - val_loss: 1.2971 - val_categorical_accuracy: 0.5853\n",
      "Epoch 37/200\n",
      "5744/5744 [==============================] - 0s 75us/step - loss: 1.2372 - categorical_accuracy: 0.6224 - val_loss: 1.2852 - val_categorical_accuracy: 0.5978\n",
      "Epoch 38/200\n",
      "5744/5744 [==============================] - 0s 77us/step - loss: 1.2061 - categorical_accuracy: 0.6262 - val_loss: 1.2972 - val_categorical_accuracy: 0.5712\n",
      "Epoch 39/200\n",
      "5744/5744 [==============================] - 0s 80us/step - loss: 1.2114 - categorical_accuracy: 0.6245 - val_loss: 1.2691 - val_categorical_accuracy: 0.5837\n",
      "Epoch 40/200\n",
      "5744/5744 [==============================] - 1s 93us/step - loss: 1.1908 - categorical_accuracy: 0.6273 - val_loss: 1.2590 - val_categorical_accuracy: 0.5947\n",
      "Epoch 41/200\n",
      "5744/5744 [==============================] - 0s 80us/step - loss: 1.1734 - categorical_accuracy: 0.6360 - val_loss: 1.2538 - val_categorical_accuracy: 0.6009\n",
      "Epoch 42/200\n",
      "5744/5744 [==============================] - 0s 66us/step - loss: 1.1612 - categorical_accuracy: 0.6334 - val_loss: 1.2446 - val_categorical_accuracy: 0.5978\n",
      "Epoch 43/200\n",
      "5744/5744 [==============================] - 0s 75us/step - loss: 1.1475 - categorical_accuracy: 0.6466 - val_loss: 1.2306 - val_categorical_accuracy: 0.6119\n",
      "Epoch 44/200\n",
      "5744/5744 [==============================] - 0s 75us/step - loss: 1.1237 - categorical_accuracy: 0.6501 - val_loss: 1.2249 - val_categorical_accuracy: 0.6103\n",
      "Epoch 45/200\n",
      "5744/5744 [==============================] - 0s 72us/step - loss: 1.1246 - categorical_accuracy: 0.6501 - val_loss: 1.2221 - val_categorical_accuracy: 0.6088\n",
      "Epoch 46/200\n",
      "5744/5744 [==============================] - 0s 87us/step - loss: 1.1172 - categorical_accuracy: 0.6537 - val_loss: 1.2102 - val_categorical_accuracy: 0.6150\n",
      "Epoch 47/200\n",
      "5744/5744 [==============================] - 0s 81us/step - loss: 1.0992 - categorical_accuracy: 0.6515 - val_loss: 1.2117 - val_categorical_accuracy: 0.6056\n",
      "Epoch 48/200\n",
      "5744/5744 [==============================] - 0s 84us/step - loss: 1.0838 - categorical_accuracy: 0.6567 - val_loss: 1.1972 - val_categorical_accuracy: 0.6182\n",
      "Epoch 49/200\n",
      "5744/5744 [==============================] - 0s 68us/step - loss: 1.0678 - categorical_accuracy: 0.6609 - val_loss: 1.1991 - val_categorical_accuracy: 0.6228\n",
      "Epoch 50/200\n",
      "5744/5744 [==============================] - 0s 67us/step - loss: 1.0593 - categorical_accuracy: 0.6647 - val_loss: 1.1890 - val_categorical_accuracy: 0.6088\n",
      "Epoch 51/200\n",
      "5744/5744 [==============================] - 0s 65us/step - loss: 1.0515 - categorical_accuracy: 0.6677 - val_loss: 1.1918 - val_categorical_accuracy: 0.6072\n",
      "Epoch 52/200\n",
      "5744/5744 [==============================] - 0s 74us/step - loss: 1.0422 - categorical_accuracy: 0.6743 - val_loss: 1.1862 - val_categorical_accuracy: 0.6103\n",
      "Epoch 53/200\n",
      "5744/5744 [==============================] - 0s 71us/step - loss: 1.0390 - categorical_accuracy: 0.6710 - val_loss: 1.1668 - val_categorical_accuracy: 0.6244\n",
      "Epoch 54/200\n",
      "5744/5744 [==============================] - 0s 68us/step - loss: 1.0236 - categorical_accuracy: 0.6755 - val_loss: 1.1622 - val_categorical_accuracy: 0.6244\n",
      "Epoch 55/200\n",
      "5744/5744 [==============================] - 0s 70us/step - loss: 1.0059 - categorical_accuracy: 0.6788 - val_loss: 1.1582 - val_categorical_accuracy: 0.6338\n",
      "Epoch 56/200\n",
      "5744/5744 [==============================] - 0s 58us/step - loss: 1.0006 - categorical_accuracy: 0.6804 - val_loss: 1.1561 - val_categorical_accuracy: 0.6213\n",
      "Epoch 57/200\n",
      "5744/5744 [==============================] - 0s 66us/step - loss: 0.9831 - categorical_accuracy: 0.6892 - val_loss: 1.1455 - val_categorical_accuracy: 0.6307\n",
      "Epoch 58/200\n",
      "5744/5744 [==============================] - 0s 78us/step - loss: 0.9803 - categorical_accuracy: 0.6831 - val_loss: 1.1483 - val_categorical_accuracy: 0.6260\n",
      "Epoch 59/200\n",
      "5744/5744 [==============================] - 0s 65us/step - loss: 0.9720 - categorical_accuracy: 0.6885 - val_loss: 1.1369 - val_categorical_accuracy: 0.6338\n",
      "Epoch 60/200\n",
      "5744/5744 [==============================] - 1s 98us/step - loss: 0.9695 - categorical_accuracy: 0.6908 - val_loss: 1.1374 - val_categorical_accuracy: 0.6338\n",
      "Epoch 61/200\n",
      "5744/5744 [==============================] - 0s 74us/step - loss: 0.9586 - categorical_accuracy: 0.6966 - val_loss: 1.1337 - val_categorical_accuracy: 0.6385\n",
      "Epoch 62/200\n",
      "5744/5744 [==============================] - 0s 67us/step - loss: 0.9508 - categorical_accuracy: 0.7006 - val_loss: 1.1287 - val_categorical_accuracy: 0.6369\n",
      "Epoch 63/200\n",
      "5744/5744 [==============================] - 0s 75us/step - loss: 0.9273 - categorical_accuracy: 0.7037 - val_loss: 1.1318 - val_categorical_accuracy: 0.6401\n",
      "Epoch 64/200\n",
      "5744/5744 [==============================] - 1s 97us/step - loss: 0.9311 - categorical_accuracy: 0.7023 - val_loss: 1.1358 - val_categorical_accuracy: 0.6307\n",
      "Epoch 65/200\n",
      "5744/5744 [==============================] - 0s 85us/step - loss: 0.9151 - categorical_accuracy: 0.7072 - val_loss: 1.1239 - val_categorical_accuracy: 0.6401\n",
      "Epoch 66/200\n",
      "5744/5744 [==============================] - 1s 109us/step - loss: 0.9084 - categorical_accuracy: 0.7077 - val_loss: 1.1222 - val_categorical_accuracy: 0.6401\n",
      "Epoch 67/200\n",
      "5744/5744 [==============================] - 1s 124us/step - loss: 0.9081 - categorical_accuracy: 0.7080 - val_loss: 1.1321 - val_categorical_accuracy: 0.6338\n",
      "Epoch 68/200\n",
      "5744/5744 [==============================] - 1s 117us/step - loss: 0.9095 - categorical_accuracy: 0.7046 - val_loss: 1.1149 - val_categorical_accuracy: 0.6448\n",
      "Epoch 69/200\n",
      "5744/5744 [==============================] - 0s 84us/step - loss: 0.8957 - categorical_accuracy: 0.7089 - val_loss: 1.1131 - val_categorical_accuracy: 0.6448\n",
      "Epoch 70/200\n",
      "5744/5744 [==============================] - 0s 71us/step - loss: 0.8771 - categorical_accuracy: 0.7192 - val_loss: 1.1088 - val_categorical_accuracy: 0.6448\n",
      "Epoch 71/200\n",
      "5744/5744 [==============================] - 0s 76us/step - loss: 0.8744 - categorical_accuracy: 0.7211 - val_loss: 1.1065 - val_categorical_accuracy: 0.6463\n",
      "Epoch 72/200\n",
      "5744/5744 [==============================] - 1s 88us/step - loss: 0.8688 - categorical_accuracy: 0.7218 - val_loss: 1.1182 - val_categorical_accuracy: 0.6401\n",
      "Epoch 73/200\n",
      "5744/5744 [==============================] - 0s 66us/step - loss: 0.8631 - categorical_accuracy: 0.7220 - val_loss: 1.1045 - val_categorical_accuracy: 0.6463\n",
      "Epoch 74/200\n",
      "5744/5744 [==============================] - 1s 89us/step - loss: 0.8578 - categorical_accuracy: 0.7202 - val_loss: 1.1109 - val_categorical_accuracy: 0.6479\n",
      "Epoch 75/200\n",
      "5744/5744 [==============================] - 0s 66us/step - loss: 0.8552 - categorical_accuracy: 0.7208 - val_loss: 1.1018 - val_categorical_accuracy: 0.6526\n",
      "Epoch 76/200\n",
      "5744/5744 [==============================] - 0s 65us/step - loss: 0.8407 - categorical_accuracy: 0.7298 - val_loss: 1.1085 - val_categorical_accuracy: 0.6463\n",
      "Epoch 77/200\n",
      "5744/5744 [==============================] - 0s 71us/step - loss: 0.8373 - categorical_accuracy: 0.7305 - val_loss: 1.1040 - val_categorical_accuracy: 0.6526\n",
      "Epoch 78/200\n",
      "5744/5744 [==============================] - 0s 73us/step - loss: 0.8130 - categorical_accuracy: 0.7418 - val_loss: 1.0962 - val_categorical_accuracy: 0.6526\n",
      "Epoch 79/200\n",
      "5744/5744 [==============================] - 0s 83us/step - loss: 0.8253 - categorical_accuracy: 0.7317 - val_loss: 1.1011 - val_categorical_accuracy: 0.6463\n",
      "Epoch 80/200\n",
      "5744/5744 [==============================] - 1s 93us/step - loss: 0.8134 - categorical_accuracy: 0.7371 - val_loss: 1.1037 - val_categorical_accuracy: 0.6432\n",
      "Epoch 81/200\n",
      "5744/5744 [==============================] - 0s 68us/step - loss: 0.8089 - categorical_accuracy: 0.7373 - val_loss: 1.1074 - val_categorical_accuracy: 0.6448\n",
      "Epoch 82/200\n",
      "5744/5744 [==============================] - 0s 84us/step - loss: 0.8121 - categorical_accuracy: 0.7350 - val_loss: 1.0976 - val_categorical_accuracy: 0.6479\n",
      "Epoch 83/200\n",
      "5744/5744 [==============================] - 1s 118us/step - loss: 0.8052 - categorical_accuracy: 0.7389 - val_loss: 1.0999 - val_categorical_accuracy: 0.6463\n",
      "Epoch 84/200\n",
      "5744/5744 [==============================] - 0s 75us/step - loss: 0.7924 - categorical_accuracy: 0.7462 - val_loss: 1.1003 - val_categorical_accuracy: 0.6463\n",
      "Epoch 85/200\n",
      "5744/5744 [==============================] - 0s 66us/step - loss: 0.8019 - categorical_accuracy: 0.7420 - val_loss: 1.1001 - val_categorical_accuracy: 0.6510\n",
      "Epoch 86/200\n",
      "5744/5744 [==============================] - 0s 70us/step - loss: 0.7853 - categorical_accuracy: 0.7430 - val_loss: 1.1017 - val_categorical_accuracy: 0.6495\n",
      "Epoch 87/200\n",
      "5744/5744 [==============================] - 0s 75us/step - loss: 0.7652 - categorical_accuracy: 0.7479 - val_loss: 1.0948 - val_categorical_accuracy: 0.6495\n",
      "Epoch 88/200\n",
      "5744/5744 [==============================] - 0s 81us/step - loss: 0.7628 - categorical_accuracy: 0.7519 - val_loss: 1.0867 - val_categorical_accuracy: 0.6541\n",
      "Epoch 89/200\n",
      "5744/5744 [==============================] - 0s 73us/step - loss: 0.7633 - categorical_accuracy: 0.7516 - val_loss: 1.1032 - val_categorical_accuracy: 0.6463\n",
      "Epoch 90/200\n",
      "5744/5744 [==============================] - 0s 82us/step - loss: 0.7826 - categorical_accuracy: 0.7362 - val_loss: 1.1050 - val_categorical_accuracy: 0.6432\n",
      "Epoch 91/200\n",
      "5744/5744 [==============================] - 0s 76us/step - loss: 0.7554 - categorical_accuracy: 0.7589 - val_loss: 1.1051 - val_categorical_accuracy: 0.6479\n",
      "Epoch 92/200\n",
      "5744/5744 [==============================] - 0s 82us/step - loss: 0.7542 - categorical_accuracy: 0.7528 - val_loss: 1.0986 - val_categorical_accuracy: 0.6541\n",
      "Epoch 93/200\n",
      "5744/5744 [==============================] - 0s 81us/step - loss: 0.7410 - categorical_accuracy: 0.7587 - val_loss: 1.1017 - val_categorical_accuracy: 0.6495\n",
      "Epoch 94/200\n",
      "5744/5744 [==============================] - 0s 72us/step - loss: 0.7351 - categorical_accuracy: 0.7589 - val_loss: 1.0903 - val_categorical_accuracy: 0.6541\n",
      "Epoch 95/200\n",
      "5744/5744 [==============================] - 1s 113us/step - loss: 0.7321 - categorical_accuracy: 0.7597 - val_loss: 1.0927 - val_categorical_accuracy: 0.6526\n"
     ]
    },
    {
     "name": "stdout",
     "output_type": "stream",
     "text": [
      "Epoch 96/200\n",
      "5744/5744 [==============================] - 1s 102us/step - loss: 0.7314 - categorical_accuracy: 0.7601 - val_loss: 1.0940 - val_categorical_accuracy: 0.6510\n",
      "Epoch 97/200\n",
      "5744/5744 [==============================] - 1s 126us/step - loss: 0.7289 - categorical_accuracy: 0.7584 - val_loss: 1.1003 - val_categorical_accuracy: 0.6463\n",
      "Epoch 98/200\n",
      "5744/5744 [==============================] - 1s 99us/step - loss: 0.7117 - categorical_accuracy: 0.7674 - val_loss: 1.1003 - val_categorical_accuracy: 0.6495\n",
      "Epoch 99/200\n",
      "5744/5744 [==============================] - 1s 100us/step - loss: 0.7146 - categorical_accuracy: 0.7646 - val_loss: 1.0921 - val_categorical_accuracy: 0.6526\n",
      "Epoch 100/200\n",
      "5744/5744 [==============================] - 1s 102us/step - loss: 0.7112 - categorical_accuracy: 0.7745 - val_loss: 1.0928 - val_categorical_accuracy: 0.6557\n",
      "Epoch 101/200\n",
      "5744/5744 [==============================] - 0s 83us/step - loss: 0.7120 - categorical_accuracy: 0.7688 - val_loss: 1.1022 - val_categorical_accuracy: 0.6479\n",
      "Epoch 102/200\n",
      "5744/5744 [==============================] - 1s 107us/step - loss: 0.7073 - categorical_accuracy: 0.7672 - val_loss: 1.0926 - val_categorical_accuracy: 0.6557\n",
      "Epoch 103/200\n",
      "5744/5744 [==============================] - 1s 107us/step - loss: 0.7036 - categorical_accuracy: 0.7702 - val_loss: 1.0958 - val_categorical_accuracy: 0.6557\n",
      "Epoch 104/200\n",
      "5744/5744 [==============================] - 0s 64us/step - loss: 0.6907 - categorical_accuracy: 0.7782 - val_loss: 1.1054 - val_categorical_accuracy: 0.6432\n",
      "Epoch 105/200\n",
      "5744/5744 [==============================] - 0s 69us/step - loss: 0.6770 - categorical_accuracy: 0.7780 - val_loss: 1.1077 - val_categorical_accuracy: 0.6416\n",
      "Epoch 106/200\n",
      "5744/5744 [==============================] - 1s 94us/step - loss: 0.6881 - categorical_accuracy: 0.7766 - val_loss: 1.0917 - val_categorical_accuracy: 0.6541\n",
      "Epoch 107/200\n",
      "5744/5744 [==============================] - 0s 84us/step - loss: 0.6809 - categorical_accuracy: 0.7784 - val_loss: 1.0993 - val_categorical_accuracy: 0.6526\n",
      "Epoch 108/200\n",
      "5744/5744 [==============================] - 0s 83us/step - loss: 0.6827 - categorical_accuracy: 0.7812 - val_loss: 1.1028 - val_categorical_accuracy: 0.6495\n",
      "Epoch 109/200\n",
      "5744/5744 [==============================] - 0s 81us/step - loss: 0.6729 - categorical_accuracy: 0.7733 - val_loss: 1.1049 - val_categorical_accuracy: 0.6510\n",
      "Epoch 110/200\n",
      "5744/5744 [==============================] - 1s 94us/step - loss: 0.6779 - categorical_accuracy: 0.7805 - val_loss: 1.1135 - val_categorical_accuracy: 0.6479\n",
      "Epoch 111/200\n",
      "5744/5744 [==============================] - 1s 111us/step - loss: 0.6614 - categorical_accuracy: 0.7869 - val_loss: 1.1202 - val_categorical_accuracy: 0.6463\n",
      "Epoch 112/200\n",
      "5744/5744 [==============================] - 1s 94us/step - loss: 0.6550 - categorical_accuracy: 0.7845 - val_loss: 1.1106 - val_categorical_accuracy: 0.6479\n",
      "Epoch 113/200\n",
      "5744/5744 [==============================] - 1s 88us/step - loss: 0.6507 - categorical_accuracy: 0.7928 - val_loss: 1.1107 - val_categorical_accuracy: 0.6495\n",
      "Epoch 114/200\n",
      "5744/5744 [==============================] - 1s 111us/step - loss: 0.6557 - categorical_accuracy: 0.7909 - val_loss: 1.1271 - val_categorical_accuracy: 0.6416\n",
      "Epoch 115/200\n",
      "5744/5744 [==============================] - 1s 98us/step - loss: 0.6476 - categorical_accuracy: 0.7855 - val_loss: 1.1221 - val_categorical_accuracy: 0.6432\n",
      "Epoch 116/200\n",
      "5744/5744 [==============================] - 1s 100us/step - loss: 0.6441 - categorical_accuracy: 0.7927 - val_loss: 1.1166 - val_categorical_accuracy: 0.6432\n",
      "Epoch 117/200\n",
      "5744/5744 [==============================] - 1s 102us/step - loss: 0.6391 - categorical_accuracy: 0.7925 - val_loss: 1.1100 - val_categorical_accuracy: 0.6557\n",
      "Epoch 118/200\n",
      "5744/5744 [==============================] - 0s 77us/step - loss: 0.6333 - categorical_accuracy: 0.7986 - val_loss: 1.1192 - val_categorical_accuracy: 0.6526\n",
      "Epoch 119/200\n",
      "5744/5744 [==============================] - 1s 94us/step - loss: 0.6310 - categorical_accuracy: 0.7965 - val_loss: 1.1252 - val_categorical_accuracy: 0.6463\n",
      "Epoch 120/200\n",
      "5744/5744 [==============================] - 1s 94us/step - loss: 0.6228 - categorical_accuracy: 0.8022 - val_loss: 1.1530 - val_categorical_accuracy: 0.6369\n",
      "Epoch 121/200\n",
      "5744/5744 [==============================] - 1s 96us/step - loss: 0.6264 - categorical_accuracy: 0.7968 - val_loss: 1.1385 - val_categorical_accuracy: 0.6432\n",
      "Epoch 122/200\n",
      "5744/5744 [==============================] - 1s 90us/step - loss: 0.6300 - categorical_accuracy: 0.7892 - val_loss: 1.1272 - val_categorical_accuracy: 0.6510\n",
      "Epoch 123/200\n",
      "5744/5744 [==============================] - 1s 94us/step - loss: 0.6215 - categorical_accuracy: 0.7987 - val_loss: 1.1320 - val_categorical_accuracy: 0.6495\n",
      "Epoch 124/200\n",
      "5744/5744 [==============================] - 1s 88us/step - loss: 0.6045 - categorical_accuracy: 0.7984 - val_loss: 1.1360 - val_categorical_accuracy: 0.6495\n",
      "Epoch 125/200\n",
      "5744/5744 [==============================] - 1s 101us/step - loss: 0.6059 - categorical_accuracy: 0.8028 - val_loss: 1.1389 - val_categorical_accuracy: 0.6495\n",
      "Epoch 126/200\n",
      "5744/5744 [==============================] - 1s 93us/step - loss: 0.6192 - categorical_accuracy: 0.7961 - val_loss: 1.1349 - val_categorical_accuracy: 0.6510\n",
      "Epoch 127/200\n",
      "5744/5744 [==============================] - 1s 92us/step - loss: 0.6216 - categorical_accuracy: 0.7977 - val_loss: 1.1442 - val_categorical_accuracy: 0.6495\n",
      "Epoch 128/200\n",
      "5744/5744 [==============================] - 1s 89us/step - loss: 0.5948 - categorical_accuracy: 0.8095 - val_loss: 1.1555 - val_categorical_accuracy: 0.6526\n",
      "Epoch 129/200\n",
      "5744/5744 [==============================] - 1s 107us/step - loss: 0.5895 - categorical_accuracy: 0.8054 - val_loss: 1.1634 - val_categorical_accuracy: 0.6463\n",
      "Epoch 130/200\n",
      "5744/5744 [==============================] - 1s 110us/step - loss: 0.6017 - categorical_accuracy: 0.8022 - val_loss: 1.1508 - val_categorical_accuracy: 0.6510\n",
      "Epoch 131/200\n",
      "5744/5744 [==============================] - 0s 83us/step - loss: 0.5912 - categorical_accuracy: 0.8111 - val_loss: 1.1444 - val_categorical_accuracy: 0.6510\n",
      "Epoch 132/200\n",
      "5744/5744 [==============================] - 0s 82us/step - loss: 0.5961 - categorical_accuracy: 0.8066 - val_loss: 1.1514 - val_categorical_accuracy: 0.6495\n",
      "Epoch 133/200\n",
      "5744/5744 [==============================] - 0s 84us/step - loss: 0.5841 - categorical_accuracy: 0.8111 - val_loss: 1.1587 - val_categorical_accuracy: 0.6463\n",
      "Epoch 134/200\n",
      "5744/5744 [==============================] - 0s 86us/step - loss: 0.5841 - categorical_accuracy: 0.8068 - val_loss: 1.1651 - val_categorical_accuracy: 0.6526\n",
      "Epoch 135/200\n",
      "5744/5744 [==============================] - 0s 79us/step - loss: 0.5793 - categorical_accuracy: 0.8118 - val_loss: 1.1766 - val_categorical_accuracy: 0.6432\n",
      "Epoch 136/200\n",
      "5744/5744 [==============================] - 1s 103us/step - loss: 0.5837 - categorical_accuracy: 0.8048 - val_loss: 1.1583 - val_categorical_accuracy: 0.6526\n",
      "Epoch 137/200\n",
      "5744/5744 [==============================] - 1s 92us/step - loss: 0.5769 - categorical_accuracy: 0.8095 - val_loss: 1.1660 - val_categorical_accuracy: 0.6479\n",
      "Epoch 138/200\n",
      "5744/5744 [==============================] - 1s 93us/step - loss: 0.5885 - categorical_accuracy: 0.8047 - val_loss: 1.1648 - val_categorical_accuracy: 0.6432\n",
      "Epoch 139/200\n",
      "5744/5744 [==============================] - 0s 84us/step - loss: 0.5765 - categorical_accuracy: 0.8125 - val_loss: 1.1644 - val_categorical_accuracy: 0.6541\n",
      "Epoch 140/200\n",
      "5744/5744 [==============================] - 1s 102us/step - loss: 0.5778 - categorical_accuracy: 0.8160 - val_loss: 1.1808 - val_categorical_accuracy: 0.6448\n",
      "Epoch 141/200\n",
      "5744/5744 [==============================] - 1s 110us/step - loss: 0.5623 - categorical_accuracy: 0.8151 - val_loss: 1.1660 - val_categorical_accuracy: 0.6604\n",
      "Epoch 142/200\n",
      "5744/5744 [==============================] - 1s 101us/step - loss: 0.5642 - categorical_accuracy: 0.8146 - val_loss: 1.1713 - val_categorical_accuracy: 0.6604\n",
      "Epoch 143/200\n",
      "5744/5744 [==============================] - 0s 79us/step - loss: 0.5628 - categorical_accuracy: 0.8167 - val_loss: 1.1806 - val_categorical_accuracy: 0.6510\n",
      "Epoch 144/200\n",
      "5744/5744 [==============================] - 0s 72us/step - loss: 0.5582 - categorical_accuracy: 0.8151 - val_loss: 1.1929 - val_categorical_accuracy: 0.6479\n",
      "Epoch 145/200\n",
      "5744/5744 [==============================] - 0s 80us/step - loss: 0.5472 - categorical_accuracy: 0.8186 - val_loss: 1.2061 - val_categorical_accuracy: 0.6448\n",
      "Epoch 146/200\n",
      "5744/5744 [==============================] - 1s 88us/step - loss: 0.5553 - categorical_accuracy: 0.8189 - val_loss: 1.2119 - val_categorical_accuracy: 0.6401\n",
      "Epoch 147/200\n",
      "5744/5744 [==============================] - 1s 93us/step - loss: 0.5497 - categorical_accuracy: 0.8193 - val_loss: 1.1944 - val_categorical_accuracy: 0.6526\n",
      "Epoch 148/200\n",
      "5744/5744 [==============================] - 0s 71us/step - loss: 0.5435 - categorical_accuracy: 0.8229 - val_loss: 1.2077 - val_categorical_accuracy: 0.6479\n",
      "Epoch 149/200\n",
      "5744/5744 [==============================] - 0s 79us/step - loss: 0.5515 - categorical_accuracy: 0.8216 - val_loss: 1.1904 - val_categorical_accuracy: 0.6604\n",
      "Epoch 150/200\n",
      "5744/5744 [==============================] - 0s 84us/step - loss: 0.5329 - categorical_accuracy: 0.8261 - val_loss: 1.2044 - val_categorical_accuracy: 0.6557\n",
      "Epoch 151/200\n",
      "5744/5744 [==============================] - 0s 78us/step - loss: 0.5449 - categorical_accuracy: 0.8156 - val_loss: 1.2050 - val_categorical_accuracy: 0.6510\n",
      "Epoch 152/200\n",
      "5744/5744 [==============================] - 0s 82us/step - loss: 0.5559 - categorical_accuracy: 0.8144 - val_loss: 1.2031 - val_categorical_accuracy: 0.6557\n",
      "Epoch 153/200\n",
      "5744/5744 [==============================] - 0s 83us/step - loss: 0.5381 - categorical_accuracy: 0.8290 - val_loss: 1.2081 - val_categorical_accuracy: 0.6604\n",
      "Epoch 154/200\n",
      "5744/5744 [==============================] - 1s 105us/step - loss: 0.5399 - categorical_accuracy: 0.8240 - val_loss: 1.2196 - val_categorical_accuracy: 0.6526\n",
      "Epoch 155/200\n",
      "5744/5744 [==============================] - 0s 70us/step - loss: 0.5151 - categorical_accuracy: 0.8370 - val_loss: 1.2407 - val_categorical_accuracy: 0.6448\n",
      "Epoch 156/200\n",
      "5744/5744 [==============================] - 0s 84us/step - loss: 0.5261 - categorical_accuracy: 0.8283 - val_loss: 1.2229 - val_categorical_accuracy: 0.6526\n",
      "Epoch 157/200\n",
      "5744/5744 [==============================] - 0s 74us/step - loss: 0.5227 - categorical_accuracy: 0.8301 - val_loss: 1.2195 - val_categorical_accuracy: 0.6541\n",
      "Epoch 158/200\n",
      "5744/5744 [==============================] - 1s 89us/step - loss: 0.5145 - categorical_accuracy: 0.8350 - val_loss: 1.2231 - val_categorical_accuracy: 0.6495\n",
      "Epoch 159/200\n",
      "5744/5744 [==============================] - 0s 80us/step - loss: 0.5150 - categorical_accuracy: 0.8304 - val_loss: 1.2484 - val_categorical_accuracy: 0.6479\n",
      "Epoch 160/200\n",
      "5744/5744 [==============================] - 0s 69us/step - loss: 0.5061 - categorical_accuracy: 0.8381 - val_loss: 1.2270 - val_categorical_accuracy: 0.6526\n",
      "Epoch 161/200\n",
      "5744/5744 [==============================] - 0s 77us/step - loss: 0.5193 - categorical_accuracy: 0.8296 - val_loss: 1.2301 - val_categorical_accuracy: 0.6588\n",
      "Epoch 162/200\n",
      "5744/5744 [==============================] - 1s 91us/step - loss: 0.5135 - categorical_accuracy: 0.8330 - val_loss: 1.2402 - val_categorical_accuracy: 0.6495\n",
      "Epoch 163/200\n",
      "5744/5744 [==============================] - 0s 78us/step - loss: 0.5137 - categorical_accuracy: 0.8303 - val_loss: 1.2193 - val_categorical_accuracy: 0.6557\n",
      "Epoch 164/200\n",
      "5744/5744 [==============================] - 0s 80us/step - loss: 0.5105 - categorical_accuracy: 0.8313 - val_loss: 1.2175 - val_categorical_accuracy: 0.6604\n",
      "Epoch 165/200\n",
      "5744/5744 [==============================] - 1s 93us/step - loss: 0.5155 - categorical_accuracy: 0.8311 - val_loss: 1.2235 - val_categorical_accuracy: 0.6588\n",
      "Epoch 166/200\n",
      "5744/5744 [==============================] - 1s 103us/step - loss: 0.4999 - categorical_accuracy: 0.8376 - val_loss: 1.2326 - val_categorical_accuracy: 0.6495\n",
      "Epoch 167/200\n",
      "5744/5744 [==============================] - 1s 97us/step - loss: 0.5082 - categorical_accuracy: 0.8323 - val_loss: 1.2628 - val_categorical_accuracy: 0.6541\n",
      "Epoch 168/200\n",
      "5744/5744 [==============================] - 1s 92us/step - loss: 0.5028 - categorical_accuracy: 0.8381 - val_loss: 1.2500 - val_categorical_accuracy: 0.6479\n",
      "Epoch 169/200\n",
      "5744/5744 [==============================] - 1s 100us/step - loss: 0.5073 - categorical_accuracy: 0.8323 - val_loss: 1.2600 - val_categorical_accuracy: 0.6495\n",
      "Epoch 170/200\n",
      "5744/5744 [==============================] - 0s 80us/step - loss: 0.5140 - categorical_accuracy: 0.8276 - val_loss: 1.2555 - val_categorical_accuracy: 0.6495\n",
      "Epoch 171/200\n",
      "5744/5744 [==============================] - 1s 106us/step - loss: 0.4842 - categorical_accuracy: 0.8398 - val_loss: 1.2546 - val_categorical_accuracy: 0.6510\n",
      "Epoch 172/200\n",
      "5744/5744 [==============================] - 1s 89us/step - loss: 0.4983 - categorical_accuracy: 0.8348 - val_loss: 1.2824 - val_categorical_accuracy: 0.6448\n",
      "Epoch 173/200\n",
      "5744/5744 [==============================] - 1s 124us/step - loss: 0.4834 - categorical_accuracy: 0.8444 - val_loss: 1.2812 - val_categorical_accuracy: 0.6526\n",
      "Epoch 174/200\n",
      "5744/5744 [==============================] - 1s 118us/step - loss: 0.4924 - categorical_accuracy: 0.8384 - val_loss: 1.2785 - val_categorical_accuracy: 0.6510\n",
      "Epoch 175/200\n",
      "5744/5744 [==============================] - 1s 98us/step - loss: 0.4860 - categorical_accuracy: 0.8428 - val_loss: 1.2701 - val_categorical_accuracy: 0.6526\n",
      "Epoch 176/200\n",
      "5744/5744 [==============================] - 1s 104us/step - loss: 0.4902 - categorical_accuracy: 0.8374 - val_loss: 1.2881 - val_categorical_accuracy: 0.6495\n",
      "Epoch 177/200\n",
      "5744/5744 [==============================] - 1s 146us/step - loss: 0.4855 - categorical_accuracy: 0.8409 - val_loss: 1.2725 - val_categorical_accuracy: 0.6495\n",
      "Epoch 178/200\n",
      "5744/5744 [==============================] - 0s 81us/step - loss: 0.4836 - categorical_accuracy: 0.8395 - val_loss: 1.2952 - val_categorical_accuracy: 0.6448\n",
      "Epoch 179/200\n",
      "5744/5744 [==============================] - 0s 74us/step - loss: 0.4811 - categorical_accuracy: 0.8409 - val_loss: 1.3012 - val_categorical_accuracy: 0.6495\n",
      "Epoch 180/200\n",
      "5744/5744 [==============================] - 0s 80us/step - loss: 0.4745 - categorical_accuracy: 0.8458 - val_loss: 1.3016 - val_categorical_accuracy: 0.6510\n",
      "Epoch 181/200\n",
      "5744/5744 [==============================] - 0s 80us/step - loss: 0.4731 - categorical_accuracy: 0.8376 - val_loss: 1.2890 - val_categorical_accuracy: 0.6526\n",
      "Epoch 182/200\n",
      "5744/5744 [==============================] - 0s 80us/step - loss: 0.4779 - categorical_accuracy: 0.8473 - val_loss: 1.3169 - val_categorical_accuracy: 0.6479\n",
      "Epoch 183/200\n",
      "5744/5744 [==============================] - 0s 86us/step - loss: 0.4758 - categorical_accuracy: 0.8376 - val_loss: 1.3176 - val_categorical_accuracy: 0.6510\n",
      "Epoch 184/200\n",
      "5744/5744 [==============================] - 1s 99us/step - loss: 0.4697 - categorical_accuracy: 0.8452 - val_loss: 1.3037 - val_categorical_accuracy: 0.6448\n",
      "Epoch 185/200\n",
      "5744/5744 [==============================] - 0s 80us/step - loss: 0.4832 - categorical_accuracy: 0.8437 - val_loss: 1.3130 - val_categorical_accuracy: 0.6495\n",
      "Epoch 186/200\n",
      "5744/5744 [==============================] - 1s 88us/step - loss: 0.4609 - categorical_accuracy: 0.8466 - val_loss: 1.3425 - val_categorical_accuracy: 0.6416\n",
      "Epoch 187/200\n",
      "5744/5744 [==============================] - 0s 69us/step - loss: 0.4765 - categorical_accuracy: 0.8421 - val_loss: 1.3266 - val_categorical_accuracy: 0.6479\n",
      "Epoch 188/200\n",
      "5744/5744 [==============================] - 0s 64us/step - loss: 0.4665 - categorical_accuracy: 0.8445 - val_loss: 1.3179 - val_categorical_accuracy: 0.6448\n",
      "Epoch 189/200\n",
      "5744/5744 [==============================] - 0s 73us/step - loss: 0.4567 - categorical_accuracy: 0.8468 - val_loss: 1.3324 - val_categorical_accuracy: 0.6463\n",
      "Epoch 190/200\n",
      "5744/5744 [==============================] - 1s 90us/step - loss: 0.4510 - categorical_accuracy: 0.8529 - val_loss: 1.3246 - val_categorical_accuracy: 0.6479\n"
     ]
    },
    {
     "name": "stdout",
     "output_type": "stream",
     "text": [
      "Epoch 191/200\n",
      "5744/5744 [==============================] - 0s 85us/step - loss: 0.4623 - categorical_accuracy: 0.8475 - val_loss: 1.3428 - val_categorical_accuracy: 0.6448\n",
      "Epoch 192/200\n",
      "5744/5744 [==============================] - 1s 90us/step - loss: 0.4515 - categorical_accuracy: 0.8552 - val_loss: 1.3466 - val_categorical_accuracy: 0.6463\n",
      "Epoch 193/200\n",
      "5744/5744 [==============================] - 1s 92us/step - loss: 0.4530 - categorical_accuracy: 0.8477 - val_loss: 1.3526 - val_categorical_accuracy: 0.6479\n",
      "Epoch 194/200\n",
      "5744/5744 [==============================] - 1s 89us/step - loss: 0.4466 - categorical_accuracy: 0.8579 - val_loss: 1.3441 - val_categorical_accuracy: 0.6510\n",
      "Epoch 195/200\n",
      "5744/5744 [==============================] - 0s 85us/step - loss: 0.4494 - categorical_accuracy: 0.8506 - val_loss: 1.3449 - val_categorical_accuracy: 0.6463\n",
      "Epoch 196/200\n",
      "5744/5744 [==============================] - 0s 75us/step - loss: 0.4455 - categorical_accuracy: 0.8501 - val_loss: 1.3494 - val_categorical_accuracy: 0.6448\n",
      "Epoch 197/200\n",
      "5744/5744 [==============================] - 0s 77us/step - loss: 0.4426 - categorical_accuracy: 0.8558 - val_loss: 1.3450 - val_categorical_accuracy: 0.6495\n",
      "Epoch 198/200\n",
      "5744/5744 [==============================] - 1s 95us/step - loss: 0.4512 - categorical_accuracy: 0.8520 - val_loss: 1.3660 - val_categorical_accuracy: 0.6479\n",
      "Epoch 199/200\n",
      "5744/5744 [==============================] - 0s 79us/step - loss: 0.4505 - categorical_accuracy: 0.8558 - val_loss: 1.3635 - val_categorical_accuracy: 0.6463\n",
      "Epoch 200/200\n",
      "5744/5744 [==============================] - 1s 90us/step - loss: 0.4464 - categorical_accuracy: 0.8511 - val_loss: 1.3412 - val_categorical_accuracy: 0.6479\n"
     ]
    }
   ],
   "source": [
    "history = dense_model.fit(Train_X, Train_Y_oh, epochs=200, verbose=True, validation_split=0.1, batch_size=300)"
   ]
  },
  {
   "cell_type": "code",
   "execution_count": 26,
   "metadata": {},
   "outputs": [
    {
     "name": "stdout",
     "output_type": "stream",
     "text": [
      "Training Accuracy: 0.9245\n",
      "Test Accuracy:  66.4787\n",
      "(1596, 13)\n",
      "SK-Learn Test Accuracy:  66.47869674185463\n",
      "SK-Learn Test Macro F1 Score:  0.4862579623771666\n",
      "----------------------------------------------------------\n",
      "                  precision    recall  f1-score   support\n",
      "\n",
      "    discuss_task       0.77      0.75      0.76       357\n",
      "   give_feedback       0.64      0.33      0.44        84\n",
      "           greet       0.95      0.85      0.89       143\n",
      "            none       0.59      0.83      0.69       496\n",
      "       plan_task       0.54      0.47      0.50       120\n",
      "      query_plan       0.50      0.14      0.22        28\n",
      "  query_progress       0.50      0.29      0.36        28\n",
      "      query_tool       0.00      0.00      0.00        20\n",
      "    report_issue       0.33      0.12      0.18        24\n",
      " report_progress       0.64      0.56      0.60       100\n",
      "request_feedback       0.65      0.62      0.63        86\n",
      "schedule_meeting       0.73      0.64      0.68        64\n",
      "      state_tool       0.69      0.24      0.35        46\n",
      "\n",
      "        accuracy                           0.66      1596\n",
      "       macro avg       0.58      0.45      0.49      1596\n",
      "    weighted avg       0.66      0.66      0.65      1596\n",
      "\n"
     ]
    }
   ],
   "source": [
    "\n",
    "loss, accuracy = dense_model.evaluate(Train_X, Train_Y_oh, verbose=False)\n",
    "print(\"Training Accuracy: {:.4f}\".format(accuracy))\n",
    "\n",
    "predictions = dense_model.predict(Test_X)\n",
    "loss, accuracy = dense_model.evaluate(Test_X, Test_Y_oh, verbose=False)\n",
    "\n",
    "print(\"Test Accuracy:  {:.4f}\".format(accuracy * 100))\n",
    "print((predictions.shape))\n",
    "predictions_max = np.argmax(predictions, axis=1)\n",
    "#Test_Y_max = np.argmax(Test_Y, axis=1)\n",
    "\n",
    "print(\"SK-Learn Test Accuracy: \", accuracy_score(predictions_max, Test_Y) * 100)\n",
    "print(\"SK-Learn Test Macro F1 Score: \", f1_score(predictions_max, Test_Y, average='macro'))\n",
    "print(\"----------------------------------------------------------\")\n",
    "print(classification_report(Test_Y, predictions_max, target_names=intents))"
   ]
  },
  {
   "cell_type": "code",
   "execution_count": 27,
   "metadata": {},
   "outputs": [
    {
     "data": {
      "image/png": "[encoded data removed]",
      "text/plain": [
       "<Figure size 864x360 with 2 Axes>"
      ]
     },
     "metadata": {
      "needs_background": "light"
     },
     "output_type": "display_data"
    }
   ],
   "source": [
    "plot_history(history)"
   ]
  },
  {
   "cell_type": "markdown",
   "metadata": {},
   "source": [
    "## Cross Validation Results"
   ]
  },
  {
   "cell_type": "code",
   "execution_count": 43,
   "metadata": {},
   "outputs": [
    {
     "name": "stdout",
     "output_type": "stream",
     "text": [
      "Accuracy for NB: 0.69 (+/- 0.04)\n",
      "Macro F1 for NB: 0.48 (+/- 0.06)\n",
      "Weighted F1 for NB: 0.65 (+/- 0.04)\n",
      "\n",
      "Accuracy for SVM: 0.76 (+/- 0.03)\n",
      "Macro F1 for SVM: 0.64 (+/- 0.06)\n",
      "Weighted F1 for SVM: 0.75 (+/- 0.03)\n",
      "\n",
      "Accuracy for LogReg: 0.77 (+/- 0.03)\n",
      "Macro F1 for LogReg: 0.67 (+/- 0.06)\n",
      "Weighted F1 for LogReg: 0.77 (+/- 0.03)\n",
      "\n",
      "Accuracy for MV Ensemble: 0.77 (+/- 0.03)\n",
      "Macro F1 for MV Ensemble: 0.65 (+/- 0.06)\n",
      "Weighted F1 for MV Ensemble: 0.76 (+/- 0.03)\n",
      "\n"
     ]
    }
   ],
   "source": [
    "scoring = ['accuracy', 'f1_macro', 'f1_weighted']\n",
    "clfs = {\n",
    "    'NB': Naive,\n",
    "    'SVM': SVM,\n",
    "    'LogReg': logReg,\n",
    "    'MV Ensemble': eclf\n",
    "}\n",
    "for lbl in clfs.keys():\n",
    "    scores = cross_validate(clfs[lbl], Train_X, Train_Y, scoring=scoring, cv=10)\n",
    "    # standard deviation = range / 4\n",
    "    print('Accuracy for %s: %0.2f (+/- %0.2f)' %(lbl, scores['test_accuracy'].mean(), scores['test_accuracy'].std() * 2))\n",
    "    print('Macro F1 for %s: %0.2f (+/- %0.2f)' %(lbl, scores['test_f1_macro'].mean(), scores['test_f1_macro'].std() * 2))\n",
    "    print('Weighted F1 for %s: %0.2f (+/- %0.2f)' %(lbl, scores['test_f1_weighted'].mean(), scores['test_f1_weighted'].std() * 2))\n",
    "    print()"
   ]
  },
  {
   "cell_type": "markdown",
   "metadata": {},
   "source": [
    "# Error Analyses"
   ]
  },
  {
   "cell_type": "code",
   "execution_count": 44,
   "metadata": {},
   "outputs": [],
   "source": [
    "predictions = ensemble_pred\n",
    "expected = Encoder.inverse_transform(Test_Y)\n",
    "actual = Encoder.inverse_transform(predictions)\n",
    "errors = errors = np.zeros((len(intents), len(intents)))\n",
    "for ex in range(0, Test_X.shape[0]):\n",
    "    if actual[ex] != expected[ex]:\n",
    "        errors[Test_Y[ex]][predictions[ex]] += 1"
   ]
  },
  {
   "cell_type": "code",
   "execution_count": 45,
   "metadata": {},
   "outputs": [
    {
     "name": "stdout",
     "output_type": "stream",
     "text": [
      "         give_  greet   none  query  query  query  repor  repor  reque  sched  Total\n",
      "  give_    0.0    0.0   36.0    0.0    0.0    0.0    0.0    5.0    2.0    0.0   43.0\n",
      "  greet    1.0    0.0   17.0    0.0    0.0    0.0    0.0    0.0    0.0    0.0   18.0\n",
      "   none   13.0    5.0    0.0    3.0    3.0    3.0    5.0    5.0   14.0    8.0   59.0\n",
      "  query    0.0    1.0    7.0    0.0    1.0    0.0    0.0    0.0    6.0    2.0   17.0\n",
      "  query    0.0    0.0    3.0    0.0    0.0    0.0    0.0    1.0    6.0    0.0   10.0\n",
      "  query    0.0    0.0    6.0    1.0    1.0    0.0    0.0    0.0    3.0    0.0   11.0\n",
      "  repor    1.0    0.0   11.0    0.0    1.0    0.0    0.0    2.0    0.0    1.0   16.0\n",
      "  repor    2.0    1.0   17.0    0.0    0.0    1.0    1.0    0.0    1.0    0.0   23.0\n",
      "  reque    2.0    0.0   15.0    1.0    1.0    0.0    0.0    1.0    0.0    2.0   22.0\n",
      "  sched    1.0    0.0   20.0    0.0    1.0    0.0    0.0    0.0    0.0    0.0   22.0\n",
      "  Total   20.0    7.0  132.0    5.0    8.0    4.0    6.0   14.0   32.0   13.0       \n"
     ]
    }
   ],
   "source": [
    "print(\"%7.5s\"*(len(intents)+2) %('', *intents, 'Total'))\n",
    "for i in range(0, len(intents)):\n",
    "    print(\"%7.5s\"*(len(intents)+2) %(intents[i], *errors[i], sum(errors[i])))\n",
    "print(\"%7.5s\"*(len(intents)+2) %(\"Total\", *np.sum(errors, axis=0), ''))"
   ]
  },
  {
   "cell_type": "code",
   "execution_count": 46,
   "metadata": {},
   "outputs": [
    {
     "name": "stdout",
     "output_type": "stream",
     "text": [
      "Searching for \" query_progress \" misclassified as \" request_feedback \"\n",
      "found 6 errors\n"
     ]
    },
    {
     "data": {
      "text/plain": [
       "['can you tell me what we reach ?',\n",
       " 'have you guys seen the  MABotArtifact  and  MABotArtifact  ?',\n",
       " ' MABotPerson  nasar could please check with  MABotPerson  and give us your update',\n",
       " 'hi we need to know if they have tested your  MABotArtifact  ? it worked our  MABotArtifact  or you want to change something ?',\n",
       " ' MABotPerson  please inform me if the  MABotPerson  problem solved or not',\n",
       " 'all please let me know if you did not or not just to make sure all have finished it']"
      ]
     },
     "execution_count": 46,
     "metadata": {},
     "output_type": "execute_result"
    }
   ],
   "source": [
    "def get_errors(true_label=None, pred_label=None):\n",
    "    if true_label:\n",
    "        true_index = intents.index(true_label)\n",
    "    if pred_label:\n",
    "        pred_index = intents.index(pred_label)\n",
    "    print(\"Searching for \\\"\", true_label, \"\\\" misclassified as \\\"\", pred_label,\"\\\"\")\n",
    "    error_list = (Test_X_raw[(Test_Y != ensemble_pred) & (Test_Y == true_index) & (ensemble_pred == pred_index)])\n",
    "    print('found', error_list.shape[0], 'errors')\n",
    "    return error_list.drop(['id'], axis=1)\n",
    "list(get_errors('query_progress', \"request_feedback\")['text'])"
   ]
  },
  {
   "cell_type": "code",
   "execution_count": 46,
   "metadata": {},
   "outputs": [
    {
     "name": "stdout",
     "output_type": "stream",
     "text": [
      "Searching for \" request_feedback \" misclassified as \" plan_task \"\n",
      "found 6 errors\n"
     ]
    },
    {
     "data": {
      "text/plain": [
       "['should i do any more changes to events  MABotArtifact ',\n",
       " 'please refer my  MABotArtifact  which is updated  MABotArtifact  in forum',\n",
       " 'will go through it and will come back to you if we have any query',\n",
       " 'all our  MABotSubteam  team have finished the first task we need to check it with the other teams to submit it before MABotEntTime',\n",
       " 'hi friends we need to submit the project tomorrow please do respond to us',\n",
       " 'me and  MABotPerson  are going to analyze the care center  MABotArtifact  here as to make it clear to anyone ok ?']"
      ]
     },
     "execution_count": 46,
     "metadata": {},
     "output_type": "execute_result"
    }
   ],
   "source": [
    "list(get_errors(\"request_feedback\", \"plan_task\")['text'])"
   ]
  },
  {
   "cell_type": "code",
   "execution_count": 47,
   "metadata": {},
   "outputs": [
    {
     "name": "stdout",
     "output_type": "stream",
     "text": [
      "Searching for \" report_progress \" misclassified as \" plan_task \"\n",
      "found 6 errors\n"
     ]
    },
    {
     "data": {
      "text/plain": [
       "['we upload an  MABotArtifact  that would be the  MABotArtifact  with the  MABotArtifact ',\n",
       " 'hello team we work in the  MABotArtifact ',\n",
       " 'i have put a static  MABotArtifact  for that last  MABotArtifact ',\n",
       " 'we still thinking on data requiremnt about event  MABotArtifact  so me and my proj mate chao wang will discuss on it',\n",
       " 'hi guys i upload a  MABotArtifact  which is the  MABotArtifact  for the support us if any thing change i will leave a message here',\n",
       " 'we will post our feedback about relational diagrams soon']"
      ]
     },
     "execution_count": 47,
     "metadata": {},
     "output_type": "execute_result"
    }
   ],
   "source": [
    "list(get_errors(\"report_progress\", \"plan_task\")['text'])"
   ]
  },
  {
   "cell_type": "code",
   "execution_count": 48,
   "metadata": {},
   "outputs": [
    {
     "name": "stdout",
     "output_type": "stream",
     "text": [
      "Searching for \" give_feedback \" misclassified as \" none \"\n",
      "found 31 errors\n"
     ]
    },
    {
     "data": {
      "text/plain": [
       "[' MABotPerson  right',\n",
       " 'good team work',\n",
       " 'fine  MABotPerson ',\n",
       " ' MABotPerson  sure thanks for the  MABotArtifact ',\n",
       " 'it think its okay',\n",
       " 'ok that is good news',\n",
       " 'of course i am interested in the project and its really nice working with you all as a team',\n",
       " ' MABotPerson  yes i highly recommend this as well',\n",
       " 'yes good',\n",
       " 'ah okay',\n",
       " ' MABotPerson  very thing is ok',\n",
       " 'yes iam with  MABotPerson ',\n",
       " 'it better but how to do that',\n",
       " 'sure  MABotPerson ',\n",
       " ' MABotPerson  i have some observations on your  MABotArtifact ',\n",
       " ' MABotPerson  ok no problem for me',\n",
       " 'the previous was partially correct the latest one is wrong according to me',\n",
       " ' MABotPerson   MABotPerson  i have no problem',\n",
       " 'myself and  MABotPerson   MABotPerson  are objecting about it',\n",
       " 'so far i am good if i need some help i will let you know',\n",
       " 'to be honest I am not convinced  MABotArtifact ',\n",
       " 'it is showing me an error',\n",
       " 'yes this is my opinion too',\n",
       " 'that all thank you very much',\n",
       " 'okay no problem',\n",
       " 'thanks guys i believe we will make a great team',\n",
       " ' MABotPerson   MABotPerson  agreed with  MABotPerson ',\n",
       " 'go ahead and good luck for all',\n",
       " 'thank you for uploading  MABotArtifact ',\n",
       " 'sure',\n",
       " 'thats fine']"
      ]
     },
     "execution_count": 48,
     "metadata": {},
     "output_type": "execute_result"
    }
   ],
   "source": [
    "list(get_errors(\"give_feedback\", \"none\")['text'])"
   ]
  },
  {
   "cell_type": "code",
   "execution_count": null,
   "metadata": {},
   "outputs": [],
   "source": []
  }
 ],
 "metadata": {
  "kernelspec": {
   "display_name": "Python 3",
   "language": "python",
   "name": "python3"
  },
  "language_info": {
   "codemirror_mode": {
    "name": "ipython",
    "version": 3
   },
   "file_extension": ".py",
   "mimetype": "text/x-python",
   "name": "python",
   "nbconvert_exporter": "python",
   "pygments_lexer": "ipython3",
   "version": "3.8.10"
  }
 },
 "nbformat": 4,
 "nbformat_minor": 2
}
